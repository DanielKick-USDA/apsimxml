{
 "cells": [
  {
   "cell_type": "code",
   "execution_count": null,
   "metadata": {},
   "outputs": [],
   "source": [
    "import os\n",
    "import numpy as np\n",
    "import pandas as pd\n",
    "import torch \n",
    "\n",
    "from torch.utils.data import Dataset\n",
    "from torch.utils.data import DataLoader\n",
    "\n",
    "from tqdm import tqdm\n",
    "\n",
    "import pyarrow as pa\n",
    "import pyarrow.parquet as pq"
   ]
  },
  {
   "cell_type": "code",
   "execution_count": null,
   "metadata": {},
   "outputs": [],
   "source": [
    "import datetime\n",
    "\n",
    "# Compute unix epoch to date table\n",
    "\n",
    "def _prep_unix_epoch_to_date(max_year = 2025):\n",
    "    month_abbr = ['Jan', 'Feb', 'Mar', 'Apr', 'May', 'Jun', 'Jul', 'Aug', 'Sep', 'Oct', 'Nov', 'Dec']\n",
    "    max_day = (datetime.datetime(max_year, 1, 1, 0, 0) - datetime.datetime(1970, 1, 1, 0, 0)).days \n",
    "    unix_epoch = [i for i in range(max_day)]\n",
    "    date_times = [datetime.datetime(1970, 1, 1, 0, 0) + datetime.timedelta(i) for i in range(max_day)]\n",
    "\n",
    "    def as_SowDate(date_time):\n",
    "        day = f'{date_time.day}'\n",
    "        if len(day) == 1:\n",
    "            return(f'0{day}-{month_abbr[date_time.month - 1]}')\n",
    "        else:\n",
    "            return(f'{day}-{month_abbr[date_time.month - 1]}')\n",
    "\n",
    "    tmp = pd.DataFrame({\n",
    "        'Unix': unix_epoch,\n",
    "        'Year':[e.year for e in date_times],\n",
    "        'Month':[e.month for e in date_times],\n",
    "        'Day':[e.day for e in date_times],\n",
    "        'SowDate':[as_SowDate(date_time = e) for e in date_times]\n",
    "    })\n",
    "    _ = tmp.loc[:, ['Unix', 'Year']].groupby(['Year']).min().reset_index().rename(columns={'Unix':'MinUnix'})\n",
    "    tmp = tmp.merge(_)\n",
    "\n",
    "    tmp['DOY'] = tmp['Unix'] - tmp['MinUnix']\n",
    "    tmp = tmp.drop(columns = ['MinUnix'])\n",
    "    return tmp"
   ]
  },
  {
   "cell_type": "code",
   "execution_count": null,
   "metadata": {},
   "outputs": [],
   "source": [
    "# how bad would it be if we stored a bunch of tiny parquet files? \n",
    "# saving many tiny parquet files will increase storage cost by 1.6x\n",
    "# That's not great but not horrible either. We're talking about approximately 500 gb.\n",
    "# (305213583096*1.6)/1000000000\n",
    "# 488.34\n",
    "\n",
    "# apsimx_sim_parquet_dir = '/home/Shared/cultivar_sim_exps'\n",
    "# Result = pq.read_table(apsimx_sim_parquet_dir+'/'+'sim_1698440407_4739.parquet').to_pandas()\n",
    "\n",
    "# -rw-rw-r-- 1 kickd newgroup 2939581425 Jun  1 01:08 cultivar_sim_exps/sim_1698440407_4739.parquet\n",
    "\n",
    "\n",
    "# for i in tqdm(Result.FactorialUID.unique()):\n",
    "#     table = Result.loc[(Result.FactorialUID == i), ].drop(columns = 'FactorialUID')\n",
    "#     table = pa.Table.from_pandas(table)\n",
    "#     pq.write_table(table, f'/home/Shared/testing_rm_after0620/{i}.parquet')\n",
    "\n",
    "# 100%|██████████| 24025/24025 [33:58<00:00, 11.79it/s]"
   ]
  },
  {
   "cell_type": "code",
   "execution_count": null,
   "metadata": {},
   "outputs": [],
   "source": [
    "# The goal is to have a (postgres?) SQL db that we can query. To not have a delay we're going to instead load a batch into memory BUT allow for redefining this batch by swapping out the dataloader.\n",
    "\n",
    "# Workflow:\n",
    "# Define the desired data \n",
    "# Use the main tables to figure out what parquet files we need to pull from.\n",
    "# Pull all the data in and represent as tensors"
   ]
  },
  {
   "cell_type": "code",
   "execution_count": null,
   "metadata": {},
   "outputs": [
    {
     "data": {
      "text/plain": [
       "['sim_1698440407_4739.parquet',\n",
       " 'sim_1697418008_10643.parquet',\n",
       " 'sim_1697187607_79518.parquet']"
      ]
     },
     "execution_count": null,
     "metadata": {},
     "output_type": "execute_result"
    }
   ],
   "source": [
    "apsimx_sim_parquet_dir = '/home/Shared/cultivar_sim_exps'\n",
    "os.listdir(apsimx_sim_parquet_dir)[0:3]"
   ]
  },
  {
   "cell_type": "code",
   "execution_count": null,
   "metadata": {},
   "outputs": [
    {
     "data": {
      "text/plain": [
       "['DefaultCultivarsAll.parquet', 'Genotypes.parquet', 'Ids.parquet']"
      ]
     },
     "execution_count": null,
     "metadata": {},
     "output_type": "execute_result"
    }
   ],
   "source": [
    "[e for e in os.listdir(apsimx_sim_parquet_dir) if e[0:4] != 'sim_']"
   ]
  },
  {
   "cell_type": "code",
   "execution_count": null,
   "metadata": {},
   "outputs": [],
   "source": [
    "# metadata \n",
    "DefaultCultivarsAll = pq.read_table(apsimx_sim_parquet_dir+'/'+'DefaultCultivarsAll.parquet').to_pandas()\n",
    "Genotypes           = pq.read_table(apsimx_sim_parquet_dir+'/'+'Genotypes.parquet').to_pandas()\n",
    "Ids                 = pq.read_table(apsimx_sim_parquet_dir+'/'+'Ids.parquet').to_pandas()"
   ]
  },
  {
   "cell_type": "code",
   "execution_count": null,
   "metadata": {},
   "outputs": [],
   "source": []
  },
  {
   "cell_type": "code",
   "execution_count": null,
   "metadata": {},
   "outputs": [
    {
     "name": "stdout",
     "output_type": "stream",
     "text": [
      "Before Mask: Genotypes: (3150, 17) Ids: (2837275, 7)\n",
      "After Mask: Genotypes: (5, 17) Ids: (4247, 7)\n"
     ]
    }
   ],
   "source": [
    "# I'm setting up a class to help find the files we need to read through to build the datset \n",
    "# This works by holding a copy of the Ids and Genotypes tables. \n",
    "# We'll operate on those, filtering them down until the tables only contain the enries we want to use.\n",
    "# Next we'll use a that produces tuples of the (parquet file, filtering criteria)\n",
    "\n",
    "class data_helper():\n",
    "    def __init__(self, genotypes_path, ids_path, results_path):\n",
    "        # used later to get the results. Append / if there isn't one.\n",
    "        if results_path[-1] != '/': \n",
    "            results_path = results_path+'/'\n",
    "        self.results_path = results_path\n",
    "\n",
    "        Genotypes = pq.read_table(genotypes_path).to_pandas()\n",
    "        # coerce None to NaN (default cultivars don't have all values specified)\n",
    "        for e in [ee for ee in list(Genotypes) if ee not in ['File', 'Genotype']]:\n",
    "            Genotypes[e] = Genotypes[e].astype(float)\n",
    "        mask = (Genotypes.isna().sum(axis = 1) == 0)\n",
    "\n",
    "        self.Genotypes = Genotypes.loc[mask, ].reset_index(drop = True)\n",
    "        self.Ids = pq.read_table(ids_path).to_pandas()\n",
    "    \n",
    "    def apply_mask(self, table, mask):\n",
    "        \"This method takes care of automatically filtering the non-masked table.\"\n",
    "        if table not in ['Genotypes', 'Ids']:\n",
    "            print('table should be Genotypes or Ids')   \n",
    "        else:\n",
    "            if table == 'Genotypes':\n",
    "                # apply mask to filter the table\n",
    "                self.Genotypes = self.Genotypes.loc[mask, ].reset_index(drop = True)\n",
    "                # left join to update the other table\n",
    "                self.Ids = self.Genotypes.loc[:, ['File', 'Genotype']\n",
    "                                        ].drop_duplicates(\n",
    "                                        ).merge(self.Ids, how = 'left'\n",
    "                                        ).reset_index(drop = True)\n",
    "            elif table == 'Ids':\n",
    "                self.Ids = self.Ids.loc[mask, ].reset_index(drop = True)\n",
    "                self.Genotypes = self.Ids.loc[:, ['File', 'Genotype']\n",
    "                                    ].drop_duplicates(\n",
    "                                    ).merge(self.Genotypes, how = 'left'\n",
    "                                    ).reset_index(drop = True)\n",
    "    def get_results(self, years = [], dry_run = True):\n",
    "        # Now we can ask for the files that we should get\n",
    "        tmp = self.Ids.loc[:, ['File', 'Genotype', 'FactorialUID']]\n",
    "\n",
    "        get_files = tmp.File.drop_duplicates().to_list()\n",
    "        print(f'{len(get_files)} files to be read.')\n",
    "\n",
    "        if dry_run == True:\n",
    "            print('In dry_run, reading no files')\n",
    "\n",
    "        if dry_run == False:\n",
    "            res_list = []\n",
    "            col_order = ''\n",
    "            for file in tqdm(get_files):\n",
    "                # print(f'{file}')\n",
    "                res = pq.read_table(f'{x.results_path+file}.parquet').to_pandas()\n",
    "\n",
    "                # columns should be in the same order, but we will force them to be here. \n",
    "                if col_order == '':\n",
    "                    col_order = list(res)\n",
    "\n",
    "                # filter order established with some informal testing.\n",
    "                # runtime filter years, factorials: [10, 11.3, 10.5]\n",
    "                # runtime filter factorials, years: [9.0, 8.4, 9.6]\n",
    "\n",
    "                # filter factorials\n",
    "                res = tmp.loc[(tmp.File == file), ['FactorialUID']].merge(res)\n",
    "\n",
    "                # filter years\n",
    "                if years != []:\n",
    "                    yr = _prep_unix_epoch_to_date(max_year = 2030)\n",
    "                    yr = yr.loc[(yr.Year.isin(years)), ['Unix']].rename(columns={'Unix':'Date'})\n",
    "                    res = yr.merge(res)\n",
    "\n",
    "                res_list.append(res)\n",
    "            res_list = pd.concat(res_list).reset_index(drop=True)\n",
    "            self.results = res_list\n",
    "\n",
    "\n",
    "x = data_helper(\n",
    "    genotypes_path = apsimx_sim_parquet_dir+'/'+'Genotypes.parquet',\n",
    "    ids_path = apsimx_sim_parquet_dir+'/'+'Ids.parquet',\n",
    "    results_path = apsimx_sim_parquet_dir)\n",
    "\n",
    "# restrict to simulated cultivars with the maximum MaximumGrainsPerCob\n",
    "mask = (x.Genotypes['Grain.MaximumGrainsPerCob.FixedValue'] == x.Genotypes['Grain.MaximumGrainsPerCob.FixedValue'].max())\n",
    "\n",
    "print(f'Before Mask: Genotypes: {x.Genotypes.shape} Ids: {x.Ids.shape}')\n",
    "x.apply_mask(table='Genotypes', mask=mask)\n",
    "print(f'After Mask: Genotypes: {x.Genotypes.shape} Ids: {x.Ids.shape}')"
   ]
  },
  {
   "cell_type": "code",
   "execution_count": null,
   "metadata": {},
   "outputs": [
    {
     "name": "stdout",
     "output_type": "stream",
     "text": [
      "Before Mask: Genotypes: (5, 17) Ids: (4247, 7)\n",
      "After Mask: Genotypes: (4, 17) Ids: (248, 7)\n"
     ]
    }
   ],
   "source": [
    "# Now let's select a region of the country. For this demonstration I'll filter to a region around Columbia MO.\n",
    "\n",
    "mask = ((x.Ids.Longitude < -90) & \n",
    "        (x.Ids.Longitude > -95) &\n",
    "        (x.Ids.Latitude  <  40) & \n",
    "        (x.Ids.Latitude  >  30) \n",
    "        )\n",
    "\n",
    "print(f'Before Mask: Genotypes: {x.Genotypes.shape} Ids: {x.Ids.shape}')\n",
    "x.apply_mask(table='Ids', mask=mask)\n",
    "print(f'After Mask: Genotypes: {x.Genotypes.shape} Ids: {x.Ids.shape}')"
   ]
  },
  {
   "cell_type": "code",
   "execution_count": null,
   "metadata": {},
   "outputs": [
    {
     "data": {
      "text/html": [
       "<div>\n",
       "<style scoped>\n",
       "    .dataframe tbody tr th:only-of-type {\n",
       "        vertical-align: middle;\n",
       "    }\n",
       "\n",
       "    .dataframe tbody tr th {\n",
       "        vertical-align: top;\n",
       "    }\n",
       "\n",
       "    .dataframe thead th {\n",
       "        text-align: right;\n",
       "    }\n",
       "</style>\n",
       "<table border=\"1\" class=\"dataframe\">\n",
       "  <thead>\n",
       "    <tr style=\"text-align: right;\">\n",
       "      <th></th>\n",
       "      <th>File</th>\n",
       "      <th>Genotype</th>\n",
       "      <th>Grain.MaximumGrainsPerCob.FixedValue</th>\n",
       "      <th>Grain.MaximumPotentialGrainSize.FixedValue</th>\n",
       "      <th>Phenology.FlagLeafToFlowering.Target.FixedValue</th>\n",
       "      <th>Phenology.FloweringToGrainFilling.Target.FixedValue</th>\n",
       "      <th>Phenology.GrainFilling.Target.FixedValue</th>\n",
       "      <th>Phenology.Juvenile.Target.FixedValue</th>\n",
       "      <th>Phenology.Maturing.Target.FixedValue</th>\n",
       "      <th>Phenology.MaturityToHarvestRipe.Target.FixedValue</th>\n",
       "      <th>Phenology.Photosensitive.Target.XYPairs.X__1</th>\n",
       "      <th>Phenology.Photosensitive.Target.XYPairs.X__2</th>\n",
       "      <th>Phenology.Photosensitive.Target.XYPairs.X__3</th>\n",
       "      <th>Phenology.Photosensitive.Target.XYPairs.Y__1</th>\n",
       "      <th>Phenology.Photosensitive.Target.XYPairs.Y__2</th>\n",
       "      <th>Phenology.Photosensitive.Target.XYPairs.Y__3</th>\n",
       "      <th>Rachis.DMDemands.Structural.DMDemandFunction.MaximumOrganWt.FixedValue</th>\n",
       "    </tr>\n",
       "  </thead>\n",
       "  <tbody>\n",
       "    <tr>\n",
       "      <th>0</th>\n",
       "      <td>sim_1697288407_92446</td>\n",
       "      <td>Cultivar24</td>\n",
       "      <td>850.0</td>\n",
       "      <td>0.291458</td>\n",
       "      <td>97.0</td>\n",
       "      <td>161.0</td>\n",
       "      <td>702.0</td>\n",
       "      <td>282.0</td>\n",
       "      <td>36.0</td>\n",
       "      <td>30.0</td>\n",
       "      <td>0.0</td>\n",
       "      <td>12.5</td>\n",
       "      <td>24.0</td>\n",
       "      <td>0.0</td>\n",
       "      <td>0.0</td>\n",
       "      <td>360.938719</td>\n",
       "      <td>19.0</td>\n",
       "    </tr>\n",
       "    <tr>\n",
       "      <th>1</th>\n",
       "      <td>sim_1697115607_54721</td>\n",
       "      <td>Cultivar7</td>\n",
       "      <td>850.0</td>\n",
       "      <td>0.220163</td>\n",
       "      <td>65.0</td>\n",
       "      <td>135.0</td>\n",
       "      <td>524.0</td>\n",
       "      <td>124.0</td>\n",
       "      <td>49.0</td>\n",
       "      <td>50.0</td>\n",
       "      <td>0.0</td>\n",
       "      <td>12.5</td>\n",
       "      <td>24.0</td>\n",
       "      <td>0.0</td>\n",
       "      <td>0.0</td>\n",
       "      <td>171.941076</td>\n",
       "      <td>27.0</td>\n",
       "    </tr>\n",
       "    <tr>\n",
       "      <th>2</th>\n",
       "      <td>sim_1697072407_46129</td>\n",
       "      <td>Cultivar4</td>\n",
       "      <td>850.0</td>\n",
       "      <td>0.270984</td>\n",
       "      <td>95.0</td>\n",
       "      <td>147.0</td>\n",
       "      <td>620.0</td>\n",
       "      <td>232.0</td>\n",
       "      <td>41.0</td>\n",
       "      <td>42.0</td>\n",
       "      <td>0.0</td>\n",
       "      <td>12.5</td>\n",
       "      <td>24.0</td>\n",
       "      <td>0.0</td>\n",
       "      <td>0.0</td>\n",
       "      <td>444.775050</td>\n",
       "      <td>28.0</td>\n",
       "    </tr>\n",
       "    <tr>\n",
       "      <th>3</th>\n",
       "      <td>sim_1696626007_58404</td>\n",
       "      <td>Cultivar13</td>\n",
       "      <td>850.0</td>\n",
       "      <td>0.296901</td>\n",
       "      <td>17.0</td>\n",
       "      <td>157.0</td>\n",
       "      <td>620.0</td>\n",
       "      <td>144.0</td>\n",
       "      <td>13.0</td>\n",
       "      <td>20.0</td>\n",
       "      <td>0.0</td>\n",
       "      <td>12.5</td>\n",
       "      <td>24.0</td>\n",
       "      <td>0.0</td>\n",
       "      <td>0.0</td>\n",
       "      <td>135.615289</td>\n",
       "      <td>16.0</td>\n",
       "    </tr>\n",
       "  </tbody>\n",
       "</table>\n",
       "</div>"
      ],
      "text/plain": [
       "                   File    Genotype  Grain.MaximumGrainsPerCob.FixedValue  \\\n",
       "0  sim_1697288407_92446  Cultivar24                                 850.0   \n",
       "1  sim_1697115607_54721   Cultivar7                                 850.0   \n",
       "2  sim_1697072407_46129   Cultivar4                                 850.0   \n",
       "3  sim_1696626007_58404  Cultivar13                                 850.0   \n",
       "\n",
       "   Grain.MaximumPotentialGrainSize.FixedValue  \\\n",
       "0                                    0.291458   \n",
       "1                                    0.220163   \n",
       "2                                    0.270984   \n",
       "3                                    0.296901   \n",
       "\n",
       "   Phenology.FlagLeafToFlowering.Target.FixedValue  \\\n",
       "0                                             97.0   \n",
       "1                                             65.0   \n",
       "2                                             95.0   \n",
       "3                                             17.0   \n",
       "\n",
       "   Phenology.FloweringToGrainFilling.Target.FixedValue  \\\n",
       "0                                              161.0     \n",
       "1                                              135.0     \n",
       "2                                              147.0     \n",
       "3                                              157.0     \n",
       "\n",
       "   Phenology.GrainFilling.Target.FixedValue  \\\n",
       "0                                     702.0   \n",
       "1                                     524.0   \n",
       "2                                     620.0   \n",
       "3                                     620.0   \n",
       "\n",
       "   Phenology.Juvenile.Target.FixedValue  Phenology.Maturing.Target.FixedValue  \\\n",
       "0                                 282.0                                  36.0   \n",
       "1                                 124.0                                  49.0   \n",
       "2                                 232.0                                  41.0   \n",
       "3                                 144.0                                  13.0   \n",
       "\n",
       "   Phenology.MaturityToHarvestRipe.Target.FixedValue  \\\n",
       "0                                               30.0   \n",
       "1                                               50.0   \n",
       "2                                               42.0   \n",
       "3                                               20.0   \n",
       "\n",
       "   Phenology.Photosensitive.Target.XYPairs.X__1  \\\n",
       "0                                           0.0   \n",
       "1                                           0.0   \n",
       "2                                           0.0   \n",
       "3                                           0.0   \n",
       "\n",
       "   Phenology.Photosensitive.Target.XYPairs.X__2  \\\n",
       "0                                          12.5   \n",
       "1                                          12.5   \n",
       "2                                          12.5   \n",
       "3                                          12.5   \n",
       "\n",
       "   Phenology.Photosensitive.Target.XYPairs.X__3  \\\n",
       "0                                          24.0   \n",
       "1                                          24.0   \n",
       "2                                          24.0   \n",
       "3                                          24.0   \n",
       "\n",
       "   Phenology.Photosensitive.Target.XYPairs.Y__1  \\\n",
       "0                                           0.0   \n",
       "1                                           0.0   \n",
       "2                                           0.0   \n",
       "3                                           0.0   \n",
       "\n",
       "   Phenology.Photosensitive.Target.XYPairs.Y__2  \\\n",
       "0                                           0.0   \n",
       "1                                           0.0   \n",
       "2                                           0.0   \n",
       "3                                           0.0   \n",
       "\n",
       "   Phenology.Photosensitive.Target.XYPairs.Y__3  \\\n",
       "0                                    360.938719   \n",
       "1                                    171.941076   \n",
       "2                                    444.775050   \n",
       "3                                    135.615289   \n",
       "\n",
       "   Rachis.DMDemands.Structural.DMDemandFunction.MaximumOrganWt.FixedValue  \n",
       "0                                               19.0                       \n",
       "1                                               27.0                       \n",
       "2                                               28.0                       \n",
       "3                                               16.0                       "
      ]
     },
     "execution_count": null,
     "metadata": {},
     "output_type": "execute_result"
    }
   ],
   "source": [
    "x.Genotypes"
   ]
  },
  {
   "cell_type": "code",
   "execution_count": null,
   "metadata": {},
   "outputs": [
    {
     "name": "stdout",
     "output_type": "stream",
     "text": [
      "4 files to be read.\n",
      "In dry_run, reading no files\n"
     ]
    }
   ],
   "source": [
    "x.get_results(years = [1990, 2000, 2010, 2020], dry_run = True) # years is optional. If an empty list is passed all years will be returned."
   ]
  },
  {
   "cell_type": "code",
   "execution_count": null,
   "metadata": {},
   "outputs": [
    {
     "name": "stdout",
     "output_type": "stream",
     "text": [
      "4 files to be read.\n"
     ]
    },
    {
     "name": "stderr",
     "output_type": "stream",
     "text": [
      "100%|██████████| 4/4 [00:20<00:00,  5.22s/it]\n"
     ]
    }
   ],
   "source": [
    "x.get_results(years = [1990, 2000, 2010, 2020], dry_run = False)"
   ]
  },
  {
   "cell_type": "code",
   "execution_count": null,
   "metadata": {},
   "outputs": [
    {
     "data": {
      "text/plain": [
       "(124218, 5)"
      ]
     },
     "execution_count": null,
     "metadata": {},
     "output_type": "execute_result"
    }
   ],
   "source": [
    "# now results can be accessed \n",
    "x.results.shape"
   ]
  },
  {
   "cell_type": "code",
   "execution_count": null,
   "metadata": {},
   "outputs": [
    {
     "data": {
      "text/html": [
       "<div>\n",
       "<style scoped>\n",
       "    .dataframe tbody tr th:only-of-type {\n",
       "        vertical-align: middle;\n",
       "    }\n",
       "\n",
       "    .dataframe tbody tr th {\n",
       "        vertical-align: top;\n",
       "    }\n",
       "\n",
       "    .dataframe thead th {\n",
       "        text-align: right;\n",
       "    }\n",
       "</style>\n",
       "<table border=\"1\" class=\"dataframe\">\n",
       "  <thead>\n",
       "    <tr style=\"text-align: right;\">\n",
       "      <th></th>\n",
       "      <th>Date</th>\n",
       "      <th>FactorialUID</th>\n",
       "      <th>Maize.AboveGround.Wt</th>\n",
       "      <th>Maize.LAI</th>\n",
       "      <th>yield_Kgha</th>\n",
       "    </tr>\n",
       "  </thead>\n",
       "  <tbody>\n",
       "    <tr>\n",
       "      <th>0</th>\n",
       "      <td>7305</td>\n",
       "      <td>14689</td>\n",
       "      <td>398.689847</td>\n",
       "      <td>0.000000</td>\n",
       "      <td>2220.623696</td>\n",
       "    </tr>\n",
       "    <tr>\n",
       "      <th>1</th>\n",
       "      <td>7305</td>\n",
       "      <td>14690</td>\n",
       "      <td>400.358238</td>\n",
       "      <td>0.000000</td>\n",
       "      <td>2251.424315</td>\n",
       "    </tr>\n",
       "    <tr>\n",
       "      <th>2</th>\n",
       "      <td>7305</td>\n",
       "      <td>14691</td>\n",
       "      <td>395.890296</td>\n",
       "      <td>0.000000</td>\n",
       "      <td>2220.743355</td>\n",
       "    </tr>\n",
       "    <tr>\n",
       "      <th>3</th>\n",
       "      <td>7305</td>\n",
       "      <td>14692</td>\n",
       "      <td>13.639644</td>\n",
       "      <td>0.000000</td>\n",
       "      <td>0.000000</td>\n",
       "    </tr>\n",
       "    <tr>\n",
       "      <th>4</th>\n",
       "      <td>7305</td>\n",
       "      <td>14693</td>\n",
       "      <td>183.347526</td>\n",
       "      <td>0.000000</td>\n",
       "      <td>671.582522</td>\n",
       "    </tr>\n",
       "    <tr>\n",
       "      <th>...</th>\n",
       "      <td>...</td>\n",
       "      <td>...</td>\n",
       "      <td>...</td>\n",
       "      <td>...</td>\n",
       "      <td>...</td>\n",
       "    </tr>\n",
       "    <tr>\n",
       "      <th>124213</th>\n",
       "      <td>18535</td>\n",
       "      <td>1178</td>\n",
       "      <td>266.304397</td>\n",
       "      <td>0.490806</td>\n",
       "      <td>1392.239344</td>\n",
       "    </tr>\n",
       "    <tr>\n",
       "      <th>124214</th>\n",
       "      <td>18536</td>\n",
       "      <td>1176</td>\n",
       "      <td>275.026986</td>\n",
       "      <td>0.491463</td>\n",
       "      <td>1426.378348</td>\n",
       "    </tr>\n",
       "    <tr>\n",
       "      <th>124215</th>\n",
       "      <td>18536</td>\n",
       "      <td>1177</td>\n",
       "      <td>273.219537</td>\n",
       "      <td>0.489669</td>\n",
       "      <td>1412.226576</td>\n",
       "    </tr>\n",
       "    <tr>\n",
       "      <th>124216</th>\n",
       "      <td>18536</td>\n",
       "      <td>1178</td>\n",
       "      <td>266.304397</td>\n",
       "      <td>0.483097</td>\n",
       "      <td>1392.239344</td>\n",
       "    </tr>\n",
       "    <tr>\n",
       "      <th>124217</th>\n",
       "      <td>18537</td>\n",
       "      <td>1178</td>\n",
       "      <td>266.304397</td>\n",
       "      <td>0.483097</td>\n",
       "      <td>1392.239344</td>\n",
       "    </tr>\n",
       "  </tbody>\n",
       "</table>\n",
       "<p>124218 rows × 5 columns</p>\n",
       "</div>"
      ],
      "text/plain": [
       "         Date  FactorialUID  Maize.AboveGround.Wt  Maize.LAI   yield_Kgha\n",
       "0        7305         14689            398.689847   0.000000  2220.623696\n",
       "1        7305         14690            400.358238   0.000000  2251.424315\n",
       "2        7305         14691            395.890296   0.000000  2220.743355\n",
       "3        7305         14692             13.639644   0.000000     0.000000\n",
       "4        7305         14693            183.347526   0.000000   671.582522\n",
       "...       ...           ...                   ...        ...          ...\n",
       "124213  18535          1178            266.304397   0.490806  1392.239344\n",
       "124214  18536          1176            275.026986   0.491463  1426.378348\n",
       "124215  18536          1177            273.219537   0.489669  1412.226576\n",
       "124216  18536          1178            266.304397   0.483097  1392.239344\n",
       "124217  18537          1178            266.304397   0.483097  1392.239344\n",
       "\n",
       "[124218 rows x 5 columns]"
      ]
     },
     "execution_count": null,
     "metadata": {},
     "output_type": "execute_result"
    }
   ],
   "source": [
    "x.results"
   ]
  },
  {
   "cell_type": "code",
   "execution_count": null,
   "metadata": {},
   "outputs": [
    {
     "data": {
      "text/html": [
       "<div>\n",
       "<style scoped>\n",
       "    .dataframe tbody tr th:only-of-type {\n",
       "        vertical-align: middle;\n",
       "    }\n",
       "\n",
       "    .dataframe tbody tr th {\n",
       "        vertical-align: top;\n",
       "    }\n",
       "\n",
       "    .dataframe thead th {\n",
       "        text-align: right;\n",
       "    }\n",
       "</style>\n",
       "<table border=\"1\" class=\"dataframe\">\n",
       "  <thead>\n",
       "    <tr style=\"text-align: right;\">\n",
       "      <th></th>\n",
       "      <th>Date</th>\n",
       "      <th>FactorialUID</th>\n",
       "      <th>Maize.AboveGround.Wt</th>\n",
       "      <th>Maize.LAI</th>\n",
       "      <th>yield_Kgha</th>\n",
       "      <th>Year</th>\n",
       "      <th>DOY</th>\n",
       "    </tr>\n",
       "  </thead>\n",
       "  <tbody>\n",
       "    <tr>\n",
       "      <th>0</th>\n",
       "      <td>7305</td>\n",
       "      <td>14689</td>\n",
       "      <td>398.689847</td>\n",
       "      <td>0.000000</td>\n",
       "      <td>2220.623696</td>\n",
       "      <td>1990</td>\n",
       "      <td>0</td>\n",
       "    </tr>\n",
       "    <tr>\n",
       "      <th>1</th>\n",
       "      <td>7305</td>\n",
       "      <td>14690</td>\n",
       "      <td>400.358238</td>\n",
       "      <td>0.000000</td>\n",
       "      <td>2251.424315</td>\n",
       "      <td>1990</td>\n",
       "      <td>0</td>\n",
       "    </tr>\n",
       "    <tr>\n",
       "      <th>2</th>\n",
       "      <td>7305</td>\n",
       "      <td>14691</td>\n",
       "      <td>395.890296</td>\n",
       "      <td>0.000000</td>\n",
       "      <td>2220.743355</td>\n",
       "      <td>1990</td>\n",
       "      <td>0</td>\n",
       "    </tr>\n",
       "    <tr>\n",
       "      <th>3</th>\n",
       "      <td>7305</td>\n",
       "      <td>14692</td>\n",
       "      <td>13.639644</td>\n",
       "      <td>0.000000</td>\n",
       "      <td>0.000000</td>\n",
       "      <td>1990</td>\n",
       "      <td>0</td>\n",
       "    </tr>\n",
       "    <tr>\n",
       "      <th>4</th>\n",
       "      <td>7305</td>\n",
       "      <td>14693</td>\n",
       "      <td>183.347526</td>\n",
       "      <td>0.000000</td>\n",
       "      <td>671.582522</td>\n",
       "      <td>1990</td>\n",
       "      <td>0</td>\n",
       "    </tr>\n",
       "    <tr>\n",
       "      <th>...</th>\n",
       "      <td>...</td>\n",
       "      <td>...</td>\n",
       "      <td>...</td>\n",
       "      <td>...</td>\n",
       "      <td>...</td>\n",
       "      <td>...</td>\n",
       "      <td>...</td>\n",
       "    </tr>\n",
       "    <tr>\n",
       "      <th>124213</th>\n",
       "      <td>18339</td>\n",
       "      <td>11223</td>\n",
       "      <td>0.091054</td>\n",
       "      <td>0.002469</td>\n",
       "      <td>0.000000</td>\n",
       "      <td>2020</td>\n",
       "      <td>77</td>\n",
       "    </tr>\n",
       "    <tr>\n",
       "      <th>124214</th>\n",
       "      <td>18339</td>\n",
       "      <td>11224</td>\n",
       "      <td>0.079454</td>\n",
       "      <td>0.002124</td>\n",
       "      <td>0.000000</td>\n",
       "      <td>2020</td>\n",
       "      <td>77</td>\n",
       "    </tr>\n",
       "    <tr>\n",
       "      <th>124215</th>\n",
       "      <td>18339</td>\n",
       "      <td>11225</td>\n",
       "      <td>0.055656</td>\n",
       "      <td>0.001396</td>\n",
       "      <td>0.000000</td>\n",
       "      <td>2020</td>\n",
       "      <td>77</td>\n",
       "    </tr>\n",
       "    <tr>\n",
       "      <th>124216</th>\n",
       "      <td>18339</td>\n",
       "      <td>11226</td>\n",
       "      <td>0.042529</td>\n",
       "      <td>0.001012</td>\n",
       "      <td>0.000000</td>\n",
       "      <td>2020</td>\n",
       "      <td>77</td>\n",
       "    </tr>\n",
       "    <tr>\n",
       "      <th>124217</th>\n",
       "      <td>18339</td>\n",
       "      <td>11227</td>\n",
       "      <td>0.036636</td>\n",
       "      <td>0.001007</td>\n",
       "      <td>0.000000</td>\n",
       "      <td>2020</td>\n",
       "      <td>77</td>\n",
       "    </tr>\n",
       "  </tbody>\n",
       "</table>\n",
       "<p>124218 rows × 7 columns</p>\n",
       "</div>"
      ],
      "text/plain": [
       "         Date  FactorialUID  Maize.AboveGround.Wt  Maize.LAI   yield_Kgha  \\\n",
       "0        7305         14689            398.689847   0.000000  2220.623696   \n",
       "1        7305         14690            400.358238   0.000000  2251.424315   \n",
       "2        7305         14691            395.890296   0.000000  2220.743355   \n",
       "3        7305         14692             13.639644   0.000000     0.000000   \n",
       "4        7305         14693            183.347526   0.000000   671.582522   \n",
       "...       ...           ...                   ...        ...          ...   \n",
       "124213  18339         11223              0.091054   0.002469     0.000000   \n",
       "124214  18339         11224              0.079454   0.002124     0.000000   \n",
       "124215  18339         11225              0.055656   0.001396     0.000000   \n",
       "124216  18339         11226              0.042529   0.001012     0.000000   \n",
       "124217  18339         11227              0.036636   0.001007     0.000000   \n",
       "\n",
       "        Year  DOY  \n",
       "0       1990    0  \n",
       "1       1990    0  \n",
       "2       1990    0  \n",
       "3       1990    0  \n",
       "4       1990    0  \n",
       "...      ...  ...  \n",
       "124213  2020   77  \n",
       "124214  2020   77  \n",
       "124215  2020   77  \n",
       "124216  2020   77  \n",
       "124217  2020   77  \n",
       "\n",
       "[124218 rows x 7 columns]"
      ]
     },
     "execution_count": null,
     "metadata": {},
     "output_type": "execute_result"
    }
   ],
   "source": [
    "# Turn results into tensor\n",
    "\n",
    "tmp = x.results.merge(_prep_unix_epoch_to_date(max_year = 2025).loc[:, ['Unix', 'Year', 'DOY']].rename(columns={'Unix':'Date'}))\n",
    "\n",
    "\n",
    "tmp"
   ]
  },
  {
   "cell_type": "code",
   "execution_count": null,
   "metadata": {},
   "outputs": [
    {
     "data": {
      "text/html": [
       "<div>\n",
       "<style scoped>\n",
       "    .dataframe tbody tr th:only-of-type {\n",
       "        vertical-align: middle;\n",
       "    }\n",
       "\n",
       "    .dataframe tbody tr th {\n",
       "        vertical-align: top;\n",
       "    }\n",
       "\n",
       "    .dataframe thead th {\n",
       "        text-align: right;\n",
       "    }\n",
       "</style>\n",
       "<table border=\"1\" class=\"dataframe\">\n",
       "  <thead>\n",
       "    <tr style=\"text-align: right;\">\n",
       "      <th></th>\n",
       "      <th>Date</th>\n",
       "      <th>FactorialUID</th>\n",
       "      <th>Maize.AboveGround.Wt</th>\n",
       "      <th>Maize.LAI</th>\n",
       "      <th>yield_Kgha</th>\n",
       "      <th>Year</th>\n",
       "      <th>DOY</th>\n",
       "    </tr>\n",
       "  </thead>\n",
       "  <tbody>\n",
       "    <tr>\n",
       "      <th>0</th>\n",
       "      <td>7305</td>\n",
       "      <td>14689</td>\n",
       "      <td>398.689847</td>\n",
       "      <td>0.0</td>\n",
       "      <td>2220.623696</td>\n",
       "      <td>1990</td>\n",
       "      <td>0</td>\n",
       "    </tr>\n",
       "    <tr>\n",
       "      <th>14</th>\n",
       "      <td>7306</td>\n",
       "      <td>14689</td>\n",
       "      <td>398.689847</td>\n",
       "      <td>0.0</td>\n",
       "      <td>2221.295995</td>\n",
       "      <td>1990</td>\n",
       "      <td>1</td>\n",
       "    </tr>\n",
       "    <tr>\n",
       "      <th>28</th>\n",
       "      <td>7307</td>\n",
       "      <td>14689</td>\n",
       "      <td>398.689847</td>\n",
       "      <td>0.0</td>\n",
       "      <td>2222.378108</td>\n",
       "      <td>1990</td>\n",
       "      <td>2</td>\n",
       "    </tr>\n",
       "    <tr>\n",
       "      <th>42</th>\n",
       "      <td>7308</td>\n",
       "      <td>14689</td>\n",
       "      <td>398.689847</td>\n",
       "      <td>0.0</td>\n",
       "      <td>2222.777354</td>\n",
       "      <td>1990</td>\n",
       "      <td>3</td>\n",
       "    </tr>\n",
       "    <tr>\n",
       "      <th>56</th>\n",
       "      <td>7309</td>\n",
       "      <td>14689</td>\n",
       "      <td>398.689847</td>\n",
       "      <td>0.0</td>\n",
       "      <td>2223.268719</td>\n",
       "      <td>1990</td>\n",
       "      <td>4</td>\n",
       "    </tr>\n",
       "    <tr>\n",
       "      <th>...</th>\n",
       "      <td>...</td>\n",
       "      <td>...</td>\n",
       "      <td>...</td>\n",
       "      <td>...</td>\n",
       "      <td>...</td>\n",
       "      <td>...</td>\n",
       "      <td>...</td>\n",
       "    </tr>\n",
       "    <tr>\n",
       "      <th>123845</th>\n",
       "      <td>18596</td>\n",
       "      <td>14689</td>\n",
       "      <td>246.454813</td>\n",
       "      <td>0.0</td>\n",
       "      <td>1565.106239</td>\n",
       "      <td>2020</td>\n",
       "      <td>334</td>\n",
       "    </tr>\n",
       "    <tr>\n",
       "      <th>123857</th>\n",
       "      <td>18597</td>\n",
       "      <td>14689</td>\n",
       "      <td>246.454813</td>\n",
       "      <td>0.0</td>\n",
       "      <td>1565.106239</td>\n",
       "      <td>2020</td>\n",
       "      <td>335</td>\n",
       "    </tr>\n",
       "    <tr>\n",
       "      <th>123869</th>\n",
       "      <td>18598</td>\n",
       "      <td>14689</td>\n",
       "      <td>246.454813</td>\n",
       "      <td>0.0</td>\n",
       "      <td>1565.106239</td>\n",
       "      <td>2020</td>\n",
       "      <td>336</td>\n",
       "    </tr>\n",
       "    <tr>\n",
       "      <th>123881</th>\n",
       "      <td>18599</td>\n",
       "      <td>14689</td>\n",
       "      <td>246.454813</td>\n",
       "      <td>0.0</td>\n",
       "      <td>1565.106239</td>\n",
       "      <td>2020</td>\n",
       "      <td>337</td>\n",
       "    </tr>\n",
       "    <tr>\n",
       "      <th>123893</th>\n",
       "      <td>18600</td>\n",
       "      <td>14689</td>\n",
       "      <td>246.454813</td>\n",
       "      <td>0.0</td>\n",
       "      <td>1565.106239</td>\n",
       "      <td>2020</td>\n",
       "      <td>338</td>\n",
       "    </tr>\n",
       "  </tbody>\n",
       "</table>\n",
       "<p>1022 rows × 7 columns</p>\n",
       "</div>"
      ],
      "text/plain": [
       "         Date  FactorialUID  Maize.AboveGround.Wt  Maize.LAI   yield_Kgha  \\\n",
       "0        7305         14689            398.689847        0.0  2220.623696   \n",
       "14       7306         14689            398.689847        0.0  2221.295995   \n",
       "28       7307         14689            398.689847        0.0  2222.378108   \n",
       "42       7308         14689            398.689847        0.0  2222.777354   \n",
       "56       7309         14689            398.689847        0.0  2223.268719   \n",
       "...       ...           ...                   ...        ...          ...   \n",
       "123845  18596         14689            246.454813        0.0  1565.106239   \n",
       "123857  18597         14689            246.454813        0.0  1565.106239   \n",
       "123869  18598         14689            246.454813        0.0  1565.106239   \n",
       "123881  18599         14689            246.454813        0.0  1565.106239   \n",
       "123893  18600         14689            246.454813        0.0  1565.106239   \n",
       "\n",
       "        Year  DOY  \n",
       "0       1990    0  \n",
       "14      1990    1  \n",
       "28      1990    2  \n",
       "42      1990    3  \n",
       "56      1990    4  \n",
       "...      ...  ...  \n",
       "123845  2020  334  \n",
       "123857  2020  335  \n",
       "123869  2020  336  \n",
       "123881  2020  337  \n",
       "123893  2020  338  \n",
       "\n",
       "[1022 rows x 7 columns]"
      ]
     },
     "execution_count": null,
     "metadata": {},
     "output_type": "execute_result"
    }
   ],
   "source": [
    "# make sure we don't allow for observations to cross over two years\n",
    "# tmp2 = tmp.loc[:, ['FactorialUID', 'Year']].drop_duplicates()\n",
    "\n",
    "tmp.loc[tmp.FactorialUID == 14689, ]"
   ]
  },
  {
   "cell_type": "code",
   "execution_count": null,
   "metadata": {},
   "outputs": [
    {
     "data": {
      "text/plain": [
       "<matplotlib.collections.PathCollection>"
      ]
     },
     "execution_count": null,
     "metadata": {},
     "output_type": "execute_result"
    },
    {
     "data": {
      "image/png": "[encoded data removed]",
      "text/plain": [
       "<Figure size 640x480 with 1 Axes>"
      ]
     },
     "metadata": {},
     "output_type": "display_data"
    }
   ],
   "source": [
    "import matplotlib.pyplot as plt\n",
    "_ = tmp.loc[tmp.FactorialUID == 14689, ]\n",
    "plt.scatter(x = _.DOY, y = _['Maize.AboveGround.Wt'])\n",
    "\n",
    "# some of these run into the subsequent year. To deal with this..."
   ]
  },
  {
   "cell_type": "code",
   "execution_count": null,
   "metadata": {},
   "outputs": [
    {
     "data": {
      "text/html": [
       "<div>\n",
       "<style scoped>\n",
       "    .dataframe tbody tr th:only-of-type {\n",
       "        vertical-align: middle;\n",
       "    }\n",
       "\n",
       "    .dataframe tbody tr th {\n",
       "        vertical-align: top;\n",
       "    }\n",
       "\n",
       "    .dataframe thead th {\n",
       "        text-align: right;\n",
       "    }\n",
       "</style>\n",
       "<table border=\"1\" class=\"dataframe\">\n",
       "  <thead>\n",
       "    <tr style=\"text-align: right;\">\n",
       "      <th></th>\n",
       "      <th>Date</th>\n",
       "      <th>FactorialUID</th>\n",
       "      <th>Maize.AboveGround.Wt</th>\n",
       "      <th>Maize.LAI</th>\n",
       "      <th>yield_Kgha</th>\n",
       "      <th>Year</th>\n",
       "      <th>DOY</th>\n",
       "      <th>YearStart</th>\n",
       "    </tr>\n",
       "  </thead>\n",
       "  <tbody>\n",
       "    <tr>\n",
       "      <th>0</th>\n",
       "      <td>7305</td>\n",
       "      <td>14689</td>\n",
       "      <td>398.689847</td>\n",
       "      <td>0.0</td>\n",
       "      <td>2220.623696</td>\n",
       "      <td>1990</td>\n",
       "      <td>0</td>\n",
       "      <td>7466</td>\n",
       "    </tr>\n",
       "    <tr>\n",
       "      <th>1</th>\n",
       "      <td>7305</td>\n",
       "      <td>14690</td>\n",
       "      <td>400.358238</td>\n",
       "      <td>0.0</td>\n",
       "      <td>2251.424315</td>\n",
       "      <td>1990</td>\n",
       "      <td>0</td>\n",
       "      <td>7466</td>\n",
       "    </tr>\n",
       "    <tr>\n",
       "      <th>2</th>\n",
       "      <td>7305</td>\n",
       "      <td>14691</td>\n",
       "      <td>395.890296</td>\n",
       "      <td>0.0</td>\n",
       "      <td>2220.743355</td>\n",
       "      <td>1990</td>\n",
       "      <td>0</td>\n",
       "      <td>7468</td>\n",
       "    </tr>\n",
       "    <tr>\n",
       "      <th>3</th>\n",
       "      <td>7305</td>\n",
       "      <td>14692</td>\n",
       "      <td>13.639644</td>\n",
       "      <td>0.0</td>\n",
       "      <td>0.000000</td>\n",
       "      <td>1990</td>\n",
       "      <td>0</td>\n",
       "      <td>7472</td>\n",
       "    </tr>\n",
       "    <tr>\n",
       "      <th>4</th>\n",
       "      <td>7305</td>\n",
       "      <td>14693</td>\n",
       "      <td>183.347526</td>\n",
       "      <td>0.0</td>\n",
       "      <td>671.582522</td>\n",
       "      <td>1990</td>\n",
       "      <td>0</td>\n",
       "      <td>7484</td>\n",
       "    </tr>\n",
       "  </tbody>\n",
       "</table>\n",
       "</div>"
      ],
      "text/plain": [
       "   Date  FactorialUID  Maize.AboveGround.Wt  Maize.LAI   yield_Kgha  Year  \\\n",
       "0  7305         14689            398.689847        0.0  2220.623696  1990   \n",
       "1  7305         14690            400.358238        0.0  2251.424315  1990   \n",
       "2  7305         14691            395.890296        0.0  2220.743355  1990   \n",
       "3  7305         14692             13.639644        0.0     0.000000  1990   \n",
       "4  7305         14693            183.347526        0.0   671.582522  1990   \n",
       "\n",
       "   DOY  YearStart  \n",
       "0    0       7466  \n",
       "1    0       7466  \n",
       "2    0       7468  \n",
       "3    0       7472  \n",
       "4    0       7484  "
      ]
     },
     "execution_count": null,
     "metadata": {},
     "output_type": "execute_result"
    }
   ],
   "source": [
    "# find the smallest above ground weight within each year, usethat to get the first date within eacy year and then filter for the values that are >= the within year start.\n",
    "_ = tmp.loc[:, ['FactorialUID', 'Year', 'Maize.AboveGround.Wt']].groupby(['FactorialUID', 'Year']).agg('min').reset_index()\n",
    "_ = _.merge(tmp).loc[:, ['FactorialUID', 'Year', 'Date']].rename(columns={'Date': 'YearStart'})\n",
    "tmp = tmp.merge(_, how='left')\n",
    "tmp.head()"
   ]
  },
  {
   "cell_type": "code",
   "execution_count": null,
   "metadata": {},
   "outputs": [
    {
     "data": {
      "text/plain": [
       "<matplotlib.collections.PathCollection>"
      ]
     },
     "execution_count": null,
     "metadata": {},
     "output_type": "execute_result"
    },
    {
     "data": {
      "image/png": "[encoded data removed]",
      "text/plain": [
       "<Figure size 640x480 with 1 Axes>"
      ]
     },
     "metadata": {},
     "output_type": "display_data"
    }
   ],
   "source": [
    "# Retained values\n",
    "_ = tmp.loc[((tmp.FactorialUID == 14689) & \n",
    "             (tmp.Date >= tmp.YearStart)\n",
    "             ), ]\n",
    "plt.scatter(x = _.DOY, y = _['Maize.AboveGround.Wt'])\n",
    "\n",
    "_ = tmp.loc[((tmp.FactorialUID == 14689) & \n",
    "             (tmp.Date < tmp.YearStart)\n",
    "             ), ]\n",
    "plt.scatter(x = _.DOY, y = _['Maize.AboveGround.Wt'])"
   ]
  },
  {
   "cell_type": "code",
   "execution_count": null,
   "metadata": {},
   "outputs": [],
   "source": [
    "# Turn results into tensor\n",
    "tmp = x.results.merge(_prep_unix_epoch_to_date(max_year = 2025).loc[:, ['Unix', 'Year', 'DOY']].rename(columns={'Unix':'Date'}))\n",
    "\n",
    "# find the smallest above ground weight within each year, usethat to get the first date within eacy year and then filter for the values that are >= the within year start.\n",
    "_ = tmp.loc[:, ['FactorialUID', 'Year', 'Maize.AboveGround.Wt']].groupby(['FactorialUID', 'Year']).agg('min').reset_index()\n",
    "_ = _.merge(tmp).loc[:, ['FactorialUID', 'Year', 'Date']].rename(columns={'Date': 'YearStart'})\n",
    "tmp = tmp.merge(_, how='left')\n",
    "\n",
    "tmp = tmp.loc[(tmp.Date >= tmp.YearStart), ]\n",
    "\n",
    "tmp=tmp.drop(columns=['YearStart', 'Date'])"
   ]
  },
  {
   "cell_type": "code",
   "execution_count": null,
   "metadata": {},
   "outputs": [
    {
     "data": {
      "text/html": [
       "<div>\n",
       "<style scoped>\n",
       "    .dataframe tbody tr th:only-of-type {\n",
       "        vertical-align: middle;\n",
       "    }\n",
       "\n",
       "    .dataframe tbody tr th {\n",
       "        vertical-align: top;\n",
       "    }\n",
       "\n",
       "    .dataframe thead th {\n",
       "        text-align: right;\n",
       "    }\n",
       "</style>\n",
       "<table border=\"1\" class=\"dataframe\">\n",
       "  <thead>\n",
       "    <tr style=\"text-align: right;\">\n",
       "      <th></th>\n",
       "      <th>FactorialUID</th>\n",
       "      <th>Maize.AboveGround.Wt</th>\n",
       "      <th>Maize.LAI</th>\n",
       "      <th>yield_Kgha</th>\n",
       "      <th>Year</th>\n",
       "      <th>DOY</th>\n",
       "    </tr>\n",
       "  </thead>\n",
       "  <tbody>\n",
       "    <tr>\n",
       "      <th>700</th>\n",
       "      <td>11811</td>\n",
       "      <td>0.022796</td>\n",
       "      <td>0.000627</td>\n",
       "      <td>0.0</td>\n",
       "      <td>1990</td>\n",
       "      <td>63</td>\n",
       "    </tr>\n",
       "    <tr>\n",
       "      <th>709</th>\n",
       "      <td>11811</td>\n",
       "      <td>0.025412</td>\n",
       "      <td>0.000627</td>\n",
       "      <td>0.0</td>\n",
       "      <td>1990</td>\n",
       "      <td>64</td>\n",
       "    </tr>\n",
       "    <tr>\n",
       "      <th>718</th>\n",
       "      <td>11811</td>\n",
       "      <td>0.025799</td>\n",
       "      <td>0.000627</td>\n",
       "      <td>0.0</td>\n",
       "      <td>1990</td>\n",
       "      <td>65</td>\n",
       "    </tr>\n",
       "    <tr>\n",
       "      <th>727</th>\n",
       "      <td>11811</td>\n",
       "      <td>0.029764</td>\n",
       "      <td>0.000770</td>\n",
       "      <td>0.0</td>\n",
       "      <td>1990</td>\n",
       "      <td>66</td>\n",
       "    </tr>\n",
       "    <tr>\n",
       "      <th>728</th>\n",
       "      <td>11813</td>\n",
       "      <td>0.022963</td>\n",
       "      <td>0.000631</td>\n",
       "      <td>0.0</td>\n",
       "      <td>1990</td>\n",
       "      <td>66</td>\n",
       "    </tr>\n",
       "    <tr>\n",
       "      <th>...</th>\n",
       "      <td>...</td>\n",
       "      <td>...</td>\n",
       "      <td>...</td>\n",
       "      <td>...</td>\n",
       "      <td>...</td>\n",
       "      <td>...</td>\n",
       "    </tr>\n",
       "    <tr>\n",
       "      <th>176095</th>\n",
       "      <td>11223</td>\n",
       "      <td>0.091054</td>\n",
       "      <td>0.002469</td>\n",
       "      <td>0.0</td>\n",
       "      <td>2020</td>\n",
       "      <td>77</td>\n",
       "    </tr>\n",
       "    <tr>\n",
       "      <th>176096</th>\n",
       "      <td>11224</td>\n",
       "      <td>0.079454</td>\n",
       "      <td>0.002124</td>\n",
       "      <td>0.0</td>\n",
       "      <td>2020</td>\n",
       "      <td>77</td>\n",
       "    </tr>\n",
       "    <tr>\n",
       "      <th>176097</th>\n",
       "      <td>11225</td>\n",
       "      <td>0.055656</td>\n",
       "      <td>0.001396</td>\n",
       "      <td>0.0</td>\n",
       "      <td>2020</td>\n",
       "      <td>77</td>\n",
       "    </tr>\n",
       "    <tr>\n",
       "      <th>176098</th>\n",
       "      <td>11226</td>\n",
       "      <td>0.042529</td>\n",
       "      <td>0.001012</td>\n",
       "      <td>0.0</td>\n",
       "      <td>2020</td>\n",
       "      <td>77</td>\n",
       "    </tr>\n",
       "    <tr>\n",
       "      <th>176099</th>\n",
       "      <td>11227</td>\n",
       "      <td>0.036636</td>\n",
       "      <td>0.001007</td>\n",
       "      <td>0.0</td>\n",
       "      <td>2020</td>\n",
       "      <td>77</td>\n",
       "    </tr>\n",
       "  </tbody>\n",
       "</table>\n",
       "<p>161620 rows × 6 columns</p>\n",
       "</div>"
      ],
      "text/plain": [
       "        FactorialUID  Maize.AboveGround.Wt  Maize.LAI  yield_Kgha  Year  DOY\n",
       "700            11811              0.022796   0.000627         0.0  1990   63\n",
       "709            11811              0.025412   0.000627         0.0  1990   64\n",
       "718            11811              0.025799   0.000627         0.0  1990   65\n",
       "727            11811              0.029764   0.000770         0.0  1990   66\n",
       "728            11813              0.022963   0.000631         0.0  1990   66\n",
       "...              ...                   ...        ...         ...   ...  ...\n",
       "176095         11223              0.091054   0.002469         0.0  2020   77\n",
       "176096         11224              0.079454   0.002124         0.0  2020   77\n",
       "176097         11225              0.055656   0.001396         0.0  2020   77\n",
       "176098         11226              0.042529   0.001012         0.0  2020   77\n",
       "176099         11227              0.036636   0.001007         0.0  2020   77\n",
       "\n",
       "[161620 rows x 6 columns]"
      ]
     },
     "execution_count": null,
     "metadata": {},
     "output_type": "execute_result"
    }
   ],
   "source": [
    "tmp"
   ]
  },
  {
   "cell_type": "code",
   "execution_count": null,
   "metadata": {},
   "outputs": [
    {
     "data": {
      "text/html": [
       "<div>\n",
       "<style scoped>\n",
       "    .dataframe tbody tr th:only-of-type {\n",
       "        vertical-align: middle;\n",
       "    }\n",
       "\n",
       "    .dataframe tbody tr th {\n",
       "        vertical-align: top;\n",
       "    }\n",
       "\n",
       "    .dataframe thead th {\n",
       "        text-align: right;\n",
       "    }\n",
       "</style>\n",
       "<table border=\"1\" class=\"dataframe\">\n",
       "  <thead>\n",
       "    <tr style=\"text-align: right;\">\n",
       "      <th></th>\n",
       "      <th>FactorialUID</th>\n",
       "      <th>Year</th>\n",
       "      <th>Maize.AboveGround.Wt</th>\n",
       "      <th>Maize.LAI</th>\n",
       "      <th>yield_Kgha</th>\n",
       "    </tr>\n",
       "  </thead>\n",
       "  <tbody>\n",
       "    <tr>\n",
       "      <th>0</th>\n",
       "      <td>1148</td>\n",
       "      <td>1990</td>\n",
       "      <td>39.054240</td>\n",
       "      <td>0.118637</td>\n",
       "      <td>0.000000</td>\n",
       "    </tr>\n",
       "    <tr>\n",
       "      <th>1</th>\n",
       "      <td>1148</td>\n",
       "      <td>2000</td>\n",
       "      <td>1.001518</td>\n",
       "      <td>0.006011</td>\n",
       "      <td>0.000000</td>\n",
       "    </tr>\n",
       "    <tr>\n",
       "      <th>2</th>\n",
       "      <td>1148</td>\n",
       "      <td>2010</td>\n",
       "      <td>15.059317</td>\n",
       "      <td>0.047930</td>\n",
       "      <td>0.000000</td>\n",
       "    </tr>\n",
       "    <tr>\n",
       "      <th>3</th>\n",
       "      <td>1148</td>\n",
       "      <td>2020</td>\n",
       "      <td>14.655121</td>\n",
       "      <td>0.038642</td>\n",
       "      <td>0.000000</td>\n",
       "    </tr>\n",
       "    <tr>\n",
       "      <th>4</th>\n",
       "      <td>1149</td>\n",
       "      <td>1990</td>\n",
       "      <td>38.888598</td>\n",
       "      <td>0.118174</td>\n",
       "      <td>0.000000</td>\n",
       "    </tr>\n",
       "    <tr>\n",
       "      <th>...</th>\n",
       "      <td>...</td>\n",
       "      <td>...</td>\n",
       "      <td>...</td>\n",
       "      <td>...</td>\n",
       "      <td>...</td>\n",
       "    </tr>\n",
       "    <tr>\n",
       "      <th>987</th>\n",
       "      <td>14693</td>\n",
       "      <td>2020</td>\n",
       "      <td>203.324797</td>\n",
       "      <td>0.671335</td>\n",
       "      <td>1156.470502</td>\n",
       "    </tr>\n",
       "    <tr>\n",
       "      <th>988</th>\n",
       "      <td>14694</td>\n",
       "      <td>1990</td>\n",
       "      <td>342.189058</td>\n",
       "      <td>1.207914</td>\n",
       "      <td>1931.999337</td>\n",
       "    </tr>\n",
       "    <tr>\n",
       "      <th>989</th>\n",
       "      <td>14694</td>\n",
       "      <td>2000</td>\n",
       "      <td>384.122213</td>\n",
       "      <td>1.120015</td>\n",
       "      <td>1761.180531</td>\n",
       "    </tr>\n",
       "    <tr>\n",
       "      <th>990</th>\n",
       "      <td>14694</td>\n",
       "      <td>2010</td>\n",
       "      <td>698.100739</td>\n",
       "      <td>2.198472</td>\n",
       "      <td>2121.942218</td>\n",
       "    </tr>\n",
       "    <tr>\n",
       "      <th>991</th>\n",
       "      <td>14694</td>\n",
       "      <td>2020</td>\n",
       "      <td>185.998362</td>\n",
       "      <td>0.590563</td>\n",
       "      <td>870.806084</td>\n",
       "    </tr>\n",
       "  </tbody>\n",
       "</table>\n",
       "<p>992 rows × 5 columns</p>\n",
       "</div>"
      ],
      "text/plain": [
       "     FactorialUID  Year  Maize.AboveGround.Wt  Maize.LAI   yield_Kgha\n",
       "0            1148  1990             39.054240   0.118637     0.000000\n",
       "1            1148  2000              1.001518   0.006011     0.000000\n",
       "2            1148  2010             15.059317   0.047930     0.000000\n",
       "3            1148  2020             14.655121   0.038642     0.000000\n",
       "4            1149  1990             38.888598   0.118174     0.000000\n",
       "..            ...   ...                   ...        ...          ...\n",
       "987         14693  2020            203.324797   0.671335  1156.470502\n",
       "988         14694  1990            342.189058   1.207914  1931.999337\n",
       "989         14694  2000            384.122213   1.120015  1761.180531\n",
       "990         14694  2010            698.100739   2.198472  2121.942218\n",
       "991         14694  2020            185.998362   0.590563   870.806084\n",
       "\n",
       "[992 rows x 5 columns]"
      ]
     },
     "execution_count": null,
     "metadata": {},
     "output_type": "execute_result"
    }
   ],
   "source": [
    "# if making point estimates:\n",
    "tmp.drop(columns='DOY').groupby(['FactorialUID', 'Year']).agg('max').reset_index()"
   ]
  },
  {
   "cell_type": "code",
   "execution_count": null,
   "metadata": {},
   "outputs": [
    {
     "data": {
      "text/html": [
       "<div>\n",
       "<style scoped>\n",
       "    .dataframe tbody tr th:only-of-type {\n",
       "        vertical-align: middle;\n",
       "    }\n",
       "\n",
       "    .dataframe tbody tr th {\n",
       "        vertical-align: top;\n",
       "    }\n",
       "\n",
       "    .dataframe thead th {\n",
       "        text-align: right;\n",
       "    }\n",
       "</style>\n",
       "<table border=\"1\" class=\"dataframe\">\n",
       "  <thead>\n",
       "    <tr style=\"text-align: right;\">\n",
       "      <th></th>\n",
       "      <th>FactorialUID</th>\n",
       "      <th>Maize.AboveGround.Wt</th>\n",
       "      <th>Maize.LAI</th>\n",
       "      <th>yield_Kgha</th>\n",
       "      <th>Year</th>\n",
       "      <th>DOY</th>\n",
       "    </tr>\n",
       "  </thead>\n",
       "  <tbody>\n",
       "    <tr>\n",
       "      <th>700</th>\n",
       "      <td>11811</td>\n",
       "      <td>0.022796</td>\n",
       "      <td>0.000627</td>\n",
       "      <td>0.0</td>\n",
       "      <td>1990</td>\n",
       "      <td>63</td>\n",
       "    </tr>\n",
       "    <tr>\n",
       "      <th>709</th>\n",
       "      <td>11811</td>\n",
       "      <td>0.025412</td>\n",
       "      <td>0.000627</td>\n",
       "      <td>0.0</td>\n",
       "      <td>1990</td>\n",
       "      <td>64</td>\n",
       "    </tr>\n",
       "    <tr>\n",
       "      <th>718</th>\n",
       "      <td>11811</td>\n",
       "      <td>0.025799</td>\n",
       "      <td>0.000627</td>\n",
       "      <td>0.0</td>\n",
       "      <td>1990</td>\n",
       "      <td>65</td>\n",
       "    </tr>\n",
       "    <tr>\n",
       "      <th>727</th>\n",
       "      <td>11811</td>\n",
       "      <td>0.029764</td>\n",
       "      <td>0.000770</td>\n",
       "      <td>0.0</td>\n",
       "      <td>1990</td>\n",
       "      <td>66</td>\n",
       "    </tr>\n",
       "    <tr>\n",
       "      <th>728</th>\n",
       "      <td>11813</td>\n",
       "      <td>0.022963</td>\n",
       "      <td>0.000631</td>\n",
       "      <td>0.0</td>\n",
       "      <td>1990</td>\n",
       "      <td>66</td>\n",
       "    </tr>\n",
       "    <tr>\n",
       "      <th>...</th>\n",
       "      <td>...</td>\n",
       "      <td>...</td>\n",
       "      <td>...</td>\n",
       "      <td>...</td>\n",
       "      <td>...</td>\n",
       "      <td>...</td>\n",
       "    </tr>\n",
       "    <tr>\n",
       "      <th>176095</th>\n",
       "      <td>11223</td>\n",
       "      <td>0.091054</td>\n",
       "      <td>0.002469</td>\n",
       "      <td>0.0</td>\n",
       "      <td>2020</td>\n",
       "      <td>77</td>\n",
       "    </tr>\n",
       "    <tr>\n",
       "      <th>176096</th>\n",
       "      <td>11224</td>\n",
       "      <td>0.079454</td>\n",
       "      <td>0.002124</td>\n",
       "      <td>0.0</td>\n",
       "      <td>2020</td>\n",
       "      <td>77</td>\n",
       "    </tr>\n",
       "    <tr>\n",
       "      <th>176097</th>\n",
       "      <td>11225</td>\n",
       "      <td>0.055656</td>\n",
       "      <td>0.001396</td>\n",
       "      <td>0.0</td>\n",
       "      <td>2020</td>\n",
       "      <td>77</td>\n",
       "    </tr>\n",
       "    <tr>\n",
       "      <th>176098</th>\n",
       "      <td>11226</td>\n",
       "      <td>0.042529</td>\n",
       "      <td>0.001012</td>\n",
       "      <td>0.0</td>\n",
       "      <td>2020</td>\n",
       "      <td>77</td>\n",
       "    </tr>\n",
       "    <tr>\n",
       "      <th>176099</th>\n",
       "      <td>11227</td>\n",
       "      <td>0.036636</td>\n",
       "      <td>0.001007</td>\n",
       "      <td>0.0</td>\n",
       "      <td>2020</td>\n",
       "      <td>77</td>\n",
       "    </tr>\n",
       "  </tbody>\n",
       "</table>\n",
       "<p>161620 rows × 6 columns</p>\n",
       "</div>"
      ],
      "text/plain": [
       "        FactorialUID  Maize.AboveGround.Wt  Maize.LAI  yield_Kgha  Year  DOY\n",
       "700            11811              0.022796   0.000627         0.0  1990   63\n",
       "709            11811              0.025412   0.000627         0.0  1990   64\n",
       "718            11811              0.025799   0.000627         0.0  1990   65\n",
       "727            11811              0.029764   0.000770         0.0  1990   66\n",
       "728            11813              0.022963   0.000631         0.0  1990   66\n",
       "...              ...                   ...        ...         ...   ...  ...\n",
       "176095         11223              0.091054   0.002469         0.0  2020   77\n",
       "176096         11224              0.079454   0.002124         0.0  2020   77\n",
       "176097         11225              0.055656   0.001396         0.0  2020   77\n",
       "176098         11226              0.042529   0.001012         0.0  2020   77\n",
       "176099         11227              0.036636   0.001007         0.0  2020   77\n",
       "\n",
       "[161620 rows x 6 columns]"
      ]
     },
     "execution_count": null,
     "metadata": {},
     "output_type": "execute_result"
    }
   ],
   "source": [
    "tmp"
   ]
  },
  {
   "cell_type": "code",
   "execution_count": null,
   "metadata": {},
   "outputs": [
    {
     "data": {
      "text/plain": [
       "<matplotlib.collections.PathCollection>"
      ]
     },
     "execution_count": null,
     "metadata": {},
     "output_type": "execute_result"
    },
    {
     "data": {
      "image/png": "[encoded data removed]",
      "text/plain": [
       "<Figure size 640x480 with 1 Axes>"
      ]
     },
     "metadata": {},
     "output_type": "display_data"
    }
   ],
   "source": [
    "mask = (\n",
    "    (tmp.FactorialUID == 11811) & \n",
    "    (tmp.Year == 1990))\n",
    "\n",
    "min, max = tmp.loc[mask, 'DOY'].agg(('min', 'max')).values\n",
    "\n",
    "out = torch.zeros(365, 3)\n",
    "out[min:(max+1), ] = torch.tensor(tmp.loc[mask, ['Maize.AboveGround.Wt', 'Maize.LAI', 'yield_Kgha']].to_numpy())\n",
    "\n",
    "# propagate forward observations to all dates following the max\n",
    "out[max:365, ] = out[max, ]\n",
    "\n",
    "plt.scatter(x = np.linspace(0, 365, 365), y = out[:, 2].numpy())"
   ]
  },
  {
   "cell_type": "code",
   "execution_count": null,
   "metadata": {},
   "outputs": [],
   "source": []
  },
  {
   "cell_type": "code",
   "execution_count": null,
   "metadata": {},
   "outputs": [],
   "source": []
  },
  {
   "cell_type": "code",
   "execution_count": null,
   "metadata": {},
   "outputs": [],
   "source": []
  },
  {
   "cell_type": "code",
   "execution_count": null,
   "metadata": {},
   "outputs": [],
   "source": []
  },
  {
   "cell_type": "markdown",
   "metadata": {},
   "source": [
    "## Define working set"
   ]
  },
  {
   "cell_type": "code",
   "execution_count": null,
   "metadata": {},
   "outputs": [],
   "source": []
  },
  {
   "cell_type": "code",
   "execution_count": null,
   "metadata": {},
   "outputs": [
    {
     "data": {
      "application/vnd.plotly.v1+json": {
       "config": {
        "plotlyServerURL": "https://plot.ly"
       },
       "data": [
        {
         "hovertemplate": "Latitude=%{lat}<br>Longitude=%{lon}<extra></extra>",
         "lat": [
          42.733264,
          38.4942817687988,
          42.9967880249023,
          39.860924,
          41.6464233398438,
          38.648202500000004,
          42.065834985,
          40.0607245,
          41.9983260225,
          40.8604,
          43.38075,
          32.6358699798584,
          41.9980951975,
          35.674181250000004,
          33.5375595092773,
          29.0279769897461,
          34.72952,
          40.7460021972656,
          40.7460021972656,
          43.055369999999996,
          38.4942817687988,
          43.2952385075,
          37.810107,
          38.63775,
          40.7460021972656,
          41.9758706025,
          43.05511725,
          42.031937975000005,
          43.4468650817871,
          39.3951034545898,
          30.3811454772949,
          41.1239925375,
          41.1962127685547,
          34.6223015,
          42.9967880249023,
          40.4787595,
          42.732239,
          42.726117,
          40.7460021972656,
          32.1849918365479,
          40.477063,
          41.98786621,
          46.5962696075439,
          42.73230075,
          41.6464233398438,
          44.06646925,
          35.29663725,
          41.089739824999995,
          42.708577500000004,
          30.8321571350098,
          39.85685125,
          40.4787965,
          41.6464233398438,
          40.0607245,
          38.0438709259033,
          35.7911491394043,
          30.538694749999998,
          39.856434750000005,
          44.114305,
          40.7460021972656,
          38.65164475,
          30.546318,
          41.0514495,
          41.1962127685547,
          47.4958229064941,
          41.6464233398438,
          47.945499420166,
          36.2417602539062,
          33.0866813659668,
          35.3404712677002,
          40.477075,
          31.7340469360352,
          41.38042275,
          29.9301338195801,
          34.8897933959961,
          40.8603518,
          30.54708625,
          30.53806922,
          41.15824525,
          38.8965375,
          41.290979,
          37.1428489685059,
          30.538828017500002,
          44.7968292236328,
          38.895579999999995,
          34.4390487670898,
          43.05668125,
          45.2467727661133,
          30.53825625,
          41.19924609,
          43.4468650817871,
          40.7460021972656,
          41.089355,
          42.5467109680176,
          31.2831687927246,
          42.70789125,
          41.1977421375,
          39.8564825,
          38.9135004575,
          44.208745,
          33.0866813659668,
          47.945499420166,
          44.7968292236328,
          43.4468650817871,
          43.0544,
          35.6667825,
          38.9446926116943,
          38.67025825,
          41.19933001,
          44.07037925,
          30.5383629325,
          30.53821875,
          43.4468650817871,
          36.130624999999995,
          40.2957248687744,
          40.2957248687744,
          41.994554317500004,
          42.065838940000006,
          40.648675,
          39.8454475402832,
          43.4468650817871,
          40.2957248687744,
          31.2831687927246,
          39.8454475402832,
          44.3468856811523,
          34.622482250000004,
          37.5933933258057,
          33.727145,
          40.477062000000004,
          34.622651749999996,
          40.08242675,
          36.2417602539062,
          42.732276,
          34.7272515,
          42.9967880249023,
          39.8454475402832,
          29.4790554046631,
          41.975856285,
          42.7288875,
          42.0966339111328,
          43.4468650817871,
          42.707751,
          41.1962127685547,
          42.5467109680176,
          43.320768,
          31.50794425,
          42.7324825,
          30.53781575,
          41.6464233398438,
          31.7340469360352,
          40.7460021972656,
          39.3951034545898,
          35.67010175,
          34.62254625,
          43.8968753814697,
          42.5467109680176,
          34.729679000000004,
          41.197664355,
          31.5079775,
          42.065842895,
          41.6464233398438,
          30.537806785,
          45.2467727661133,
          37.5933933258057,
          39.855785,
          41.1997096125,
          41.056680387499995,
          39.14480675,
          38.63525,
          44.07038575,
          43.8968753814697,
          33.726664,
          40.05982425,
          35.3404712677002,
          42.7288875,
          35.483467125,
          41.16732275,
          43.055847625,
          33.717295,
          42.5467109680176,
          43.8968753814697,
          35.300098915,
          42.73227475,
          40.851785,
          42.732214025000005,
          42.0674917475,
          28.1256866455078,
          42.7321756,
          38.62935675,
          40.8603518,
          35.674240999999995,
          42.726110750000004,
          39.3951034545898,
          31.50582525,
          46.1464595794678,
          42.0966339111328,
          31.5079175,
          38.898079165,
          33.0866813659668,
          42.73248125,
          33.72355555,
          43.320069000000004,
          38.642976250000004,
          44.7968292236328,
          33.7154545725,
          39.85688825,
          43.0586069025,
          42.73339625,
          38.89264,
          31.505771,
          41.97582495,
          36.128276365000005,
          42.5467109680176,
          41.97593131,
          37.1428489685059,
          30.538828017500002,
          41.164661374999994,
          44.7968292236328,
          43.8968753814697,
          47.046012878418,
          43.05505505,
          38.4942817687988,
          39.3951034545898,
          43.3246415,
          42.9967880249023,
          42.0966339111328,
          43.294786,
          30.8321571350098,
          43.05632525,
          30.54234046625,
          32.1849918365479,
          42.9967880249023,
          34.4390487670898,
          42.7261605,
          33.0866813659668,
          41.6464233398438,
          32.6358699798584,
          44.11904984,
          38.92892175,
          44.7968292236328,
          41.04972975,
          46.1464595794678,
          42.06582876,
          35.30015175,
          46.5962696075439,
          41.1962127685547,
          43.060857,
          43.8968753814697,
          42.0966339111328,
          42.9967880249023,
          42.5467109680176,
          36.2417602539062,
          35.838614,
          41.199251145000005,
          42.72880835,
          37.5933933258057,
          40.06300125,
          40.64850025,
          37.1428489685059,
          43.3264485,
          44.0690783925,
          40.7460021972656,
          40.7460021972656,
          44.06933375,
          34.62225,
          42.7233625,
          47.046012878418,
          41.994647505,
          42.729404175,
          39.216417750000005,
          41.1962127685547,
          30.53788219,
          40.7460021972656,
          41.1992562,
          42.733325,
          33.7204165,
          40.478782499999994,
          35.296577084999996,
          38.628981,
          38.0438709259033,
          42.70854325,
          40.48251775,
          42.5467109680176,
          43.326490750000005,
          42.68116575,
          44.3468856811523,
          31.7340469360352,
          31.5060325,
          40.7460021972656,
          42.7322645,
          42.732251250000004,
          42.5467109680176,
          34.4390487670898,
          42.689234,
          39.8454475402832,
          42.9967880249023,
          31.2831687927246,
          29.9301338195801,
          38.670675,
          40.2957248687744,
          40.058710500000004,
          44.07044721,
          41.9758706025,
          37.5933933258057,
          40.2957248687744,
          40.85980333333333,
          44.0664117,
          47.046012878418,
          39.3951034545898,
          44.06933375,
          38.8955475,
          38.8956125,
          41.162,
          34.4390487670898,
          30.5386395825,
          31.506975,
          44.115702999999996,
          41.061911275,
          42.5467109680176,
          40.4787595,
          33.71560925,
          33.9883041381836,
          42.41206675
         ],
         "legendgroup": "",
         "lon": [
          -76.65611874999999,
          -116.010236740112,
          -93.2062435150146,
          -83.6755995,
          -104.608459472656,
          -75.44606,
          -94.72067796,
          -88.23121675,
          -93.694298175,
          -96.6159,
          -89.38645,
          -111.89510345459,
          -93.693369725,
          -90.07526949999999,
          -89.7605514526367,
          -81.424560546875,
          -90.7603555,
          -94.0086078643799,
          -93.4165954589844,
          -89.53039749999999,
          -121.741724014282,
          -89.3862938475,
          -100.775188,
          -75.45824999999999,
          -86.9044589996338,
          -92.2431888125,
          -89.528525,
          -93.79333212750001,
          -95.26611328125,
          -88.7958717346191,
          -91.0088443756104,
          -100.7771425125,
          -102.552428245544,
          -82.7364835,
          -91.3667058944702,
          -86.98982,
          -76.650972,
          -76.655339,
          -92.2325706481934,
          -96.8094253540039,
          -87.00020175,
          -92.25804885,
          -122.424545288086,
          -76.65036275,
          -98.607177734375,
          -93.533648,
          -77.5668065,
          -100.779377525,
          -84.4705825,
          -93.7424325942993,
          -83.67122475,
          -86.9895995,
          -90.2053833007812,
          -88.2338815,
          -95.7605171203613,
          -78.8269662857056,
          -96.4274175,
          -83.67288725,
          -89.544225,
          -120.057153701782,
          -75.44913625000001,
          -96.4329965,
          -100.7471915,
          -92.4192333221436,
          -109.455766677856,
          -95.0064086914062,
          -107.837219238281,
          -99.4880676269531,
          -82.6725244522095,
          -98.0004692077637,
          -87.000205,
          -105.100231170654,
          -96.55988375,
          -83.6434555053711,
          -103.83252620697,
          -96.59670298,
          -96.43393475,
          -96.4283844175,
          -101.98729575,
          -92.208004165,
          -96.41664324999999,
          -97.0756006240845,
          -96.4273201675,
          -71.3193321228027,
          -92.2076033325,
          -81.3192749023438,
          -89.5308135,
          -91.7484760284424,
          -96.42790225,
          -91.4940229575,
          -92.79541015625,
          -90.4565334320068,
          -100.7749075,
          -106.999101638794,
          -89.155158996582,
          -84.4706665,
          -91.48767071500001,
          -83.67284000000001,
          -92.28138874999999,
          -102.92874499999999,
          -82.1369934082031,
          -114.530534744263,
          -95.3327941894531,
          -93.4130859375,
          -89.5317,
          -78.492372,
          -99.0293073654175,
          -75.4333645,
          -91.494122375,
          -93.53411425,
          -96.42780953249999,
          -96.42793611249999,
          -114.4140625,
          -77.1789825,
          -85.5822467803955,
          -89.110631942749,
          -93.69030947499999,
          -94.720747405,
          -104.994675,
          -85.4478979110718,
          -112.56103515625,
          -114.985456466675,
          -101.757850646973,
          -93.0428314208984,
          -98.2367038726807,
          -82.73756775,
          -100.666170120239,
          -83.29821525,
          -86.99766525,
          -82.7362945,
          -88.23121675,
          -95.5942535400391,
          -76.65276399999999,
          -90.76032574999999,
          -91.9798851013184,
          -122.254114151001,
          -82.5294017791748,
          -92.24291804,
          -76.6515625,
          -93.4070539474487,
          -96.50146484375,
          -84.47058725,
          -94.8035144805908,
          -94.2167663574219,
          -89.33189475,
          -83.55854475,
          -76.65277775,
          -96.4283715,
          -96.2066650390625,
          -93.4922695159912,
          -91.6405582427979,
          -106.207485198975,
          -78.510504,
          -82.73710325,
          -86.1575889587402,
          -85.6952095031738,
          -90.7603455,
          -91.48720141,
          -83.558517,
          -94.72081685,
          -92.0057678222656,
          -96.42840763,
          -112.765135765076,
          -75.7564640045166,
          -83.66477375,
          -91.49362406,
          -100.7480420875,
          -96.62898225,
          -75.45625,
          -93.53519625,
          -96.7363834381104,
          -83.3044675,
          -88.23397575,
          -78.2001876831055,
          -76.651520835,
          -77.56904237500001,
          -96.41663225,
          -89.5306055,
          -83.3110275,
          -96.0428142547607,
          -111.04887008667,
          -77.57131746499999,
          -76.6513705,
          -96.61667,
          -76.65248675,
          -94.729009495,
          -81.7930603027344,
          -76.653454625,
          -75.4656925,
          -96.597845,
          -90.0749725,
          -76.65530175,
          -85.8939361572266,
          -83.55515025,
          -94.1229963302612,
          -88.5718107223511,
          -83.55854775,
          -92.2079,
          -79.9948692321777,
          -76.65275025,
          -83.30265185,
          -89.33172575,
          -75.452693125,
          -84.5899295806885,
          -83.30972048999999,
          -83.67122499999999,
          -89.532033415,
          -76.652747,
          -92.2057525,
          -83.555095,
          -92.24308745,
          -77.177887625,
          -107.60778427124,
          -92.24310603250001,
          -119.584794044495,
          -96.42840763,
          -96.412816125,
          -89.0134620666504,
          -88.6467170715332,
          -117.642822265625,
          -89.52853825,
          -85.6333541870117,
          -118.976001739502,
          -89.33688775,
          -107.309365272522,
          -90.9894323348999,
          -89.38396800000001,
          -97.4005603790283,
          -89.53194975,
          -96.430684,
          -83.0253410339355,
          -90.7535266876221,
          -85.6710815429688,
          -76.6556765,
          -88.0278348922729,
          -104.008331298828,
          -80.986967086792,
          -89.5563453275,
          -92.3548775,
          -123.769788742065,
          -100.7527925,
          -99.9475955963135,
          -94.7205012925,
          -77.57127825,
          -120.466890335083,
          -84.0742492675781,
          -89.494068,
          -99.8477935791016,
          -94.0114593505859,
          -84.6217346191406,
          -95.4341316223145,
          -97.2630310058594,
          -90.66530155000001,
          -91.49407266624999,
          -76.6515625,
          -114.819412231445,
          -88.2291765,
          -104.9997825,
          -103.265628814697,
          -89.33359974999999,
          -93.5326302825,
          -120.649166107178,
          -94.6006202697754,
          -93.533648,
          -82.736661,
          -76.6555945,
          -122.249069213867,
          -93.69042819,
          -76.6516166675,
          -96.60482225,
          -112.089552879333,
          -96.428361205,
          -91.0485458374023,
          -91.4941418,
          -76.65519325,
          -83.308125,
          -86.9898145,
          -77.5664625,
          -75.46566025,
          -105.444383621216,
          -84.47056075,
          -87.00278825,
          -92.390718460083,
          -89.33882925,
          -84.49434124999999,
          -100.745134353638,
          -100.351519584656,
          -83.558005,
          -97.5606822967529,
          -76.65174300000001,
          -76.650192,
          -100.912275314331,
          -90.0228881835938,
          -84.49755575,
          -82.5267696380615,
          -93.8194227218628,
          -86.0044860839844,
          -103.322658538818,
          -75.433225,
          -96.1674022674561,
          -88.2298385,
          -93.53494127249999,
          -92.24310603250001,
          -90.4758358001709,
          -97.9315948486328,
          -96.597845,
          -93.525004705,
          -118.958892822266,
          -96.9212913513184,
          -93.52954725000001,
          -92.2072025,
          -92.20883,
          -96.409,
          -87.8469848632812,
          -96.4274555575,
          -83.55826099999999,
          -89.54491325000001,
          -100.748892675,
          -93.6080837249756,
          -86.99766525,
          -83.30894675,
          -101.255331039429,
          -84.2952625
         ],
         "marker": {
          "color": "fuchsia"
         },
         "mode": "markers",
         "name": "",
         "showlegend": false,
         "subplot": "mapbox",
         "type": "scattermapbox"
        }
       ],
       "layout": {
        "height": 300,
        "legend": {
         "tracegroupgap": 0
        },
        "mapbox": {
         "center": {
          "lat": 39.486448098655856,
          "lon": -91.82480546207833
         },
         "domain": {
          "x": [
           0,
           1
          ],
          "y": [
           0,
           1
          ]
         },
         "style": "open-street-map",
         "zoom": 3
        },
        "margin": {
         "b": 0,
         "l": 0,
         "r": 0,
         "t": 0
        },
        "template": {
         "data": {
          "bar": [
           {
            "error_x": {
             "color": "#2a3f5f"
            },
            "error_y": {
             "color": "#2a3f5f"
            },
            "marker": {
             "line": {
              "color": "#E5ECF6",
              "width": 0.5
             },
             "pattern": {
              "fillmode": "overlay",
              "size": 10,
              "solidity": 0.2
             }
            },
            "type": "bar"
           }
          ],
          "barpolar": [
           {
            "marker": {
             "line": {
              "color": "#E5ECF6",
              "width": 0.5
             },
             "pattern": {
              "fillmode": "overlay",
              "size": 10,
              "solidity": 0.2
             }
            },
            "type": "barpolar"
           }
          ],
          "carpet": [
           {
            "aaxis": {
             "endlinecolor": "#2a3f5f",
             "gridcolor": "white",
             "linecolor": "white",
             "minorgridcolor": "white",
             "startlinecolor": "#2a3f5f"
            },
            "baxis": {
             "endlinecolor": "#2a3f5f",
             "gridcolor": "white",
             "linecolor": "white",
             "minorgridcolor": "white",
             "startlinecolor": "#2a3f5f"
            },
            "type": "carpet"
           }
          ],
          "choropleth": [
           {
            "colorbar": {
             "outlinewidth": 0,
             "ticks": ""
            },
            "type": "choropleth"
           }
          ],
          "contour": [
           {
            "colorbar": {
             "outlinewidth": 0,
             "ticks": ""
            },
            "colorscale": [
             [
              0,
              "#0d0887"
             ],
             [
              0.1111111111111111,
              "#46039f"
             ],
             [
              0.2222222222222222,
              "#7201a8"
             ],
             [
              0.3333333333333333,
              "#9c179e"
             ],
             [
              0.4444444444444444,
              "#bd3786"
             ],
             [
              0.5555555555555556,
              "#d8576b"
             ],
             [
              0.6666666666666666,
              "#ed7953"
             ],
             [
              0.7777777777777778,
              "#fb9f3a"
             ],
             [
              0.8888888888888888,
              "#fdca26"
             ],
             [
              1,
              "#f0f921"
             ]
            ],
            "type": "contour"
           }
          ],
          "contourcarpet": [
           {
            "colorbar": {
             "outlinewidth": 0,
             "ticks": ""
            },
            "type": "contourcarpet"
           }
          ],
          "heatmap": [
           {
            "colorbar": {
             "outlinewidth": 0,
             "ticks": ""
            },
            "colorscale": [
             [
              0,
              "#0d0887"
             ],
             [
              0.1111111111111111,
              "#46039f"
             ],
             [
              0.2222222222222222,
              "#7201a8"
             ],
             [
              0.3333333333333333,
              "#9c179e"
             ],
             [
              0.4444444444444444,
              "#bd3786"
             ],
             [
              0.5555555555555556,
              "#d8576b"
             ],
             [
              0.6666666666666666,
              "#ed7953"
             ],
             [
              0.7777777777777778,
              "#fb9f3a"
             ],
             [
              0.8888888888888888,
              "#fdca26"
             ],
             [
              1,
              "#f0f921"
             ]
            ],
            "type": "heatmap"
           }
          ],
          "heatmapgl": [
           {
            "colorbar": {
             "outlinewidth": 0,
             "ticks": ""
            },
            "colorscale": [
             [
              0,
              "#0d0887"
             ],
             [
              0.1111111111111111,
              "#46039f"
             ],
             [
              0.2222222222222222,
              "#7201a8"
             ],
             [
              0.3333333333333333,
              "#9c179e"
             ],
             [
              0.4444444444444444,
              "#bd3786"
             ],
             [
              0.5555555555555556,
              "#d8576b"
             ],
             [
              0.6666666666666666,
              "#ed7953"
             ],
             [
              0.7777777777777778,
              "#fb9f3a"
             ],
             [
              0.8888888888888888,
              "#fdca26"
             ],
             [
              1,
              "#f0f921"
             ]
            ],
            "type": "heatmapgl"
           }
          ],
          "histogram": [
           {
            "marker": {
             "pattern": {
              "fillmode": "overlay",
              "size": 10,
              "solidity": 0.2
             }
            },
            "type": "histogram"
           }
          ],
          "histogram2d": [
           {
            "colorbar": {
             "outlinewidth": 0,
             "ticks": ""
            },
            "colorscale": [
             [
              0,
              "#0d0887"
             ],
             [
              0.1111111111111111,
              "#46039f"
             ],
             [
              0.2222222222222222,
              "#7201a8"
             ],
             [
              0.3333333333333333,
              "#9c179e"
             ],
             [
              0.4444444444444444,
              "#bd3786"
             ],
             [
              0.5555555555555556,
              "#d8576b"
             ],
             [
              0.6666666666666666,
              "#ed7953"
             ],
             [
              0.7777777777777778,
              "#fb9f3a"
             ],
             [
              0.8888888888888888,
              "#fdca26"
             ],
             [
              1,
              "#f0f921"
             ]
            ],
            "type": "histogram2d"
           }
          ],
          "histogram2dcontour": [
           {
            "colorbar": {
             "outlinewidth": 0,
             "ticks": ""
            },
            "colorscale": [
             [
              0,
              "#0d0887"
             ],
             [
              0.1111111111111111,
              "#46039f"
             ],
             [
              0.2222222222222222,
              "#7201a8"
             ],
             [
              0.3333333333333333,
              "#9c179e"
             ],
             [
              0.4444444444444444,
              "#bd3786"
             ],
             [
              0.5555555555555556,
              "#d8576b"
             ],
             [
              0.6666666666666666,
              "#ed7953"
             ],
             [
              0.7777777777777778,
              "#fb9f3a"
             ],
             [
              0.8888888888888888,
              "#fdca26"
             ],
             [
              1,
              "#f0f921"
             ]
            ],
            "type": "histogram2dcontour"
           }
          ],
          "mesh3d": [
           {
            "colorbar": {
             "outlinewidth": 0,
             "ticks": ""
            },
            "type": "mesh3d"
           }
          ],
          "parcoords": [
           {
            "line": {
             "colorbar": {
              "outlinewidth": 0,
              "ticks": ""
             }
            },
            "type": "parcoords"
           }
          ],
          "pie": [
           {
            "automargin": true,
            "type": "pie"
           }
          ],
          "scatter": [
           {
            "fillpattern": {
             "fillmode": "overlay",
             "size": 10,
             "solidity": 0.2
            },
            "type": "scatter"
           }
          ],
          "scatter3d": [
           {
            "line": {
             "colorbar": {
              "outlinewidth": 0,
              "ticks": ""
             }
            },
            "marker": {
             "colorbar": {
              "outlinewidth": 0,
              "ticks": ""
             }
            },
            "type": "scatter3d"
           }
          ],
          "scattercarpet": [
           {
            "marker": {
             "colorbar": {
              "outlinewidth": 0,
              "ticks": ""
             }
            },
            "type": "scattercarpet"
           }
          ],
          "scattergeo": [
           {
            "marker": {
             "colorbar": {
              "outlinewidth": 0,
              "ticks": ""
             }
            },
            "type": "scattergeo"
           }
          ],
          "scattergl": [
           {
            "marker": {
             "colorbar": {
              "outlinewidth": 0,
              "ticks": ""
             }
            },
            "type": "scattergl"
           }
          ],
          "scattermapbox": [
           {
            "marker": {
             "colorbar": {
              "outlinewidth": 0,
              "ticks": ""
             }
            },
            "type": "scattermapbox"
           }
          ],
          "scatterpolar": [
           {
            "marker": {
             "colorbar": {
              "outlinewidth": 0,
              "ticks": ""
             }
            },
            "type": "scatterpolar"
           }
          ],
          "scatterpolargl": [
           {
            "marker": {
             "colorbar": {
              "outlinewidth": 0,
              "ticks": ""
             }
            },
            "type": "scatterpolargl"
           }
          ],
          "scatterternary": [
           {
            "marker": {
             "colorbar": {
              "outlinewidth": 0,
              "ticks": ""
             }
            },
            "type": "scatterternary"
           }
          ],
          "surface": [
           {
            "colorbar": {
             "outlinewidth": 0,
             "ticks": ""
            },
            "colorscale": [
             [
              0,
              "#0d0887"
             ],
             [
              0.1111111111111111,
              "#46039f"
             ],
             [
              0.2222222222222222,
              "#7201a8"
             ],
             [
              0.3333333333333333,
              "#9c179e"
             ],
             [
              0.4444444444444444,
              "#bd3786"
             ],
             [
              0.5555555555555556,
              "#d8576b"
             ],
             [
              0.6666666666666666,
              "#ed7953"
             ],
             [
              0.7777777777777778,
              "#fb9f3a"
             ],
             [
              0.8888888888888888,
              "#fdca26"
             ],
             [
              1,
              "#f0f921"
             ]
            ],
            "type": "surface"
           }
          ],
          "table": [
           {
            "cells": {
             "fill": {
              "color": "#EBF0F8"
             },
             "line": {
              "color": "white"
             }
            },
            "header": {
             "fill": {
              "color": "#C8D4E3"
             },
             "line": {
              "color": "white"
             }
            },
            "type": "table"
           }
          ]
         },
         "layout": {
          "annotationdefaults": {
           "arrowcolor": "#2a3f5f",
           "arrowhead": 0,
           "arrowwidth": 1
          },
          "autotypenumbers": "strict",
          "coloraxis": {
           "colorbar": {
            "outlinewidth": 0,
            "ticks": ""
           }
          },
          "colorscale": {
           "diverging": [
            [
             0,
             "#8e0152"
            ],
            [
             0.1,
             "#c51b7d"
            ],
            [
             0.2,
             "#de77ae"
            ],
            [
             0.3,
             "#f1b6da"
            ],
            [
             0.4,
             "#fde0ef"
            ],
            [
             0.5,
             "#f7f7f7"
            ],
            [
             0.6,
             "#e6f5d0"
            ],
            [
             0.7,
             "#b8e186"
            ],
            [
             0.8,
             "#7fbc41"
            ],
            [
             0.9,
             "#4d9221"
            ],
            [
             1,
             "#276419"
            ]
           ],
           "sequential": [
            [
             0,
             "#0d0887"
            ],
            [
             0.1111111111111111,
             "#46039f"
            ],
            [
             0.2222222222222222,
             "#7201a8"
            ],
            [
             0.3333333333333333,
             "#9c179e"
            ],
            [
             0.4444444444444444,
             "#bd3786"
            ],
            [
             0.5555555555555556,
             "#d8576b"
            ],
            [
             0.6666666666666666,
             "#ed7953"
            ],
            [
             0.7777777777777778,
             "#fb9f3a"
            ],
            [
             0.8888888888888888,
             "#fdca26"
            ],
            [
             1,
             "#f0f921"
            ]
           ],
           "sequentialminus": [
            [
             0,
             "#0d0887"
            ],
            [
             0.1111111111111111,
             "#46039f"
            ],
            [
             0.2222222222222222,
             "#7201a8"
            ],
            [
             0.3333333333333333,
             "#9c179e"
            ],
            [
             0.4444444444444444,
             "#bd3786"
            ],
            [
             0.5555555555555556,
             "#d8576b"
            ],
            [
             0.6666666666666666,
             "#ed7953"
            ],
            [
             0.7777777777777778,
             "#fb9f3a"
            ],
            [
             0.8888888888888888,
             "#fdca26"
            ],
            [
             1,
             "#f0f921"
            ]
           ]
          },
          "colorway": [
           "#636efa",
           "#EF553B",
           "#00cc96",
           "#ab63fa",
           "#FFA15A",
           "#19d3f3",
           "#FF6692",
           "#B6E880",
           "#FF97FF",
           "#FECB52"
          ],
          "font": {
           "color": "#2a3f5f"
          },
          "geo": {
           "bgcolor": "white",
           "lakecolor": "white",
           "landcolor": "#E5ECF6",
           "showlakes": true,
           "showland": true,
           "subunitcolor": "white"
          },
          "hoverlabel": {
           "align": "left"
          },
          "hovermode": "closest",
          "mapbox": {
           "style": "light"
          },
          "paper_bgcolor": "white",
          "plot_bgcolor": "#E5ECF6",
          "polar": {
           "angularaxis": {
            "gridcolor": "white",
            "linecolor": "white",
            "ticks": ""
           },
           "bgcolor": "#E5ECF6",
           "radialaxis": {
            "gridcolor": "white",
            "linecolor": "white",
            "ticks": ""
           }
          },
          "scene": {
           "xaxis": {
            "backgroundcolor": "#E5ECF6",
            "gridcolor": "white",
            "gridwidth": 2,
            "linecolor": "white",
            "showbackground": true,
            "ticks": "",
            "zerolinecolor": "white"
           },
           "yaxis": {
            "backgroundcolor": "#E5ECF6",
            "gridcolor": "white",
            "gridwidth": 2,
            "linecolor": "white",
            "showbackground": true,
            "ticks": "",
            "zerolinecolor": "white"
           },
           "zaxis": {
            "backgroundcolor": "#E5ECF6",
            "gridcolor": "white",
            "gridwidth": 2,
            "linecolor": "white",
            "showbackground": true,
            "ticks": "",
            "zerolinecolor": "white"
           }
          },
          "shapedefaults": {
           "line": {
            "color": "#2a3f5f"
           }
          },
          "ternary": {
           "aaxis": {
            "gridcolor": "white",
            "linecolor": "white",
            "ticks": ""
           },
           "baxis": {
            "gridcolor": "white",
            "linecolor": "white",
            "ticks": ""
           },
           "bgcolor": "#E5ECF6",
           "caxis": {
            "gridcolor": "white",
            "linecolor": "white",
            "ticks": ""
           }
          },
          "title": {
           "x": 0.05
          },
          "xaxis": {
           "automargin": true,
           "gridcolor": "white",
           "linecolor": "white",
           "ticks": "",
           "title": {
            "standoff": 15
           },
           "zerolinecolor": "white",
           "zerolinewidth": 2
          },
          "yaxis": {
           "automargin": true,
           "gridcolor": "white",
           "linecolor": "white",
           "ticks": "",
           "title": {
            "standoff": 15
           },
           "zerolinecolor": "white",
           "zerolinewidth": 2
          }
         }
        }
       }
      },
      "text/html": [
       "<div>                            <div id=\"e32fdbbd-3382-48d5-b09a-5bb0b6e906dc\" class=\"plotly-graph-div\" style=\"height:300px; width:100%;\"></div>            <script type=\"text/javascript\">                require([\"plotly\"], function(Plotly) {                    window.PLOTLYENV=window.PLOTLYENV || {};                                    if (document.getElementById(\"e32fdbbd-3382-48d5-b09a-5bb0b6e906dc\")) {                    Plotly.newPlot(                        \"e32fdbbd-3382-48d5-b09a-5bb0b6e906dc\",                        [{\"hovertemplate\":\"Latitude=%{lat}\\u003cbr\\u003eLongitude=%{lon}\\u003cextra\\u003e\\u003c\\u002fextra\\u003e\",\"lat\":[42.733264,38.4942817687988,42.9967880249023,39.860924,41.6464233398438,38.648202500000004,42.065834985,40.0607245,41.9983260225,40.8604,43.38075,32.6358699798584,41.9980951975,35.674181250000004,33.5375595092773,29.0279769897461,34.72952,40.7460021972656,40.7460021972656,43.055369999999996,38.4942817687988,43.2952385075,37.810107,38.63775,40.7460021972656,41.9758706025,43.05511725,42.031937975000005,43.4468650817871,39.3951034545898,30.3811454772949,41.1239925375,41.1962127685547,34.6223015,42.9967880249023,40.4787595,42.732239,42.726117,40.7460021972656,32.1849918365479,40.477063,41.98786621,46.5962696075439,42.73230075,41.6464233398438,44.06646925,35.29663725,41.089739824999995,42.708577500000004,30.8321571350098,39.85685125,40.4787965,41.6464233398438,40.0607245,38.0438709259033,35.7911491394043,30.538694749999998,39.856434750000005,44.114305,40.7460021972656,38.65164475,30.546318,41.0514495,41.1962127685547,47.4958229064941,41.6464233398438,47.945499420166,36.2417602539062,33.0866813659668,35.3404712677002,40.477075,31.7340469360352,41.38042275,29.9301338195801,34.8897933959961,40.8603518,30.54708625,30.53806922,41.15824525,38.8965375,41.290979,37.1428489685059,30.538828017500002,44.7968292236328,38.895579999999995,34.4390487670898,43.05668125,45.2467727661133,30.53825625,41.19924609,43.4468650817871,40.7460021972656,41.089355,42.5467109680176,31.2831687927246,42.70789125,41.1977421375,39.8564825,38.9135004575,44.208745,33.0866813659668,47.945499420166,44.7968292236328,43.4468650817871,43.0544,35.6667825,38.9446926116943,38.67025825,41.19933001,44.07037925,30.5383629325,30.53821875,43.4468650817871,36.130624999999995,40.2957248687744,40.2957248687744,41.994554317500004,42.065838940000006,40.648675,39.8454475402832,43.4468650817871,40.2957248687744,31.2831687927246,39.8454475402832,44.3468856811523,34.622482250000004,37.5933933258057,33.727145,40.477062000000004,34.622651749999996,40.08242675,36.2417602539062,42.732276,34.7272515,42.9967880249023,39.8454475402832,29.4790554046631,41.975856285,42.7288875,42.0966339111328,43.4468650817871,42.707751,41.1962127685547,42.5467109680176,43.320768,31.50794425,42.7324825,30.53781575,41.6464233398438,31.7340469360352,40.7460021972656,39.3951034545898,35.67010175,34.62254625,43.8968753814697,42.5467109680176,34.729679000000004,41.197664355,31.5079775,42.065842895,41.6464233398438,30.537806785,45.2467727661133,37.5933933258057,39.855785,41.1997096125,41.056680387499995,39.14480675,38.63525,44.07038575,43.8968753814697,33.726664,40.05982425,35.3404712677002,42.7288875,35.483467125,41.16732275,43.055847625,33.717295,42.5467109680176,43.8968753814697,35.300098915,42.73227475,40.851785,42.732214025000005,42.0674917475,28.1256866455078,42.7321756,38.62935675,40.8603518,35.674240999999995,42.726110750000004,39.3951034545898,31.50582525,46.1464595794678,42.0966339111328,31.5079175,38.898079165,33.0866813659668,42.73248125,33.72355555,43.320069000000004,38.642976250000004,44.7968292236328,33.7154545725,39.85688825,43.0586069025,42.73339625,38.89264,31.505771,41.97582495,36.128276365000005,42.5467109680176,41.97593131,37.1428489685059,30.538828017500002,41.164661374999994,44.7968292236328,43.8968753814697,47.046012878418,43.05505505,38.4942817687988,39.3951034545898,43.3246415,42.9967880249023,42.0966339111328,43.294786,30.8321571350098,43.05632525,30.54234046625,32.1849918365479,42.9967880249023,34.4390487670898,42.7261605,33.0866813659668,41.6464233398438,32.6358699798584,44.11904984,38.92892175,44.7968292236328,41.04972975,46.1464595794678,42.06582876,35.30015175,46.5962696075439,41.1962127685547,43.060857,43.8968753814697,42.0966339111328,42.9967880249023,42.5467109680176,36.2417602539062,35.838614,41.199251145000005,42.72880835,37.5933933258057,40.06300125,40.64850025,37.1428489685059,43.3264485,44.0690783925,40.7460021972656,40.7460021972656,44.06933375,34.62225,42.7233625,47.046012878418,41.994647505,42.729404175,39.216417750000005,41.1962127685547,30.53788219,40.7460021972656,41.1992562,42.733325,33.7204165,40.478782499999994,35.296577084999996,38.628981,38.0438709259033,42.70854325,40.48251775,42.5467109680176,43.326490750000005,42.68116575,44.3468856811523,31.7340469360352,31.5060325,40.7460021972656,42.7322645,42.732251250000004,42.5467109680176,34.4390487670898,42.689234,39.8454475402832,42.9967880249023,31.2831687927246,29.9301338195801,38.670675,40.2957248687744,40.058710500000004,44.07044721,41.9758706025,37.5933933258057,40.2957248687744,40.85980333333333,44.0664117,47.046012878418,39.3951034545898,44.06933375,38.8955475,38.8956125,41.162,34.4390487670898,30.5386395825,31.506975,44.115702999999996,41.061911275,42.5467109680176,40.4787595,33.71560925,33.9883041381836,42.41206675],\"legendgroup\":\"\",\"lon\":[-76.65611874999999,-116.010236740112,-93.2062435150146,-83.6755995,-104.608459472656,-75.44606,-94.72067796,-88.23121675,-93.694298175,-96.6159,-89.38645,-111.89510345459,-93.693369725,-90.07526949999999,-89.7605514526367,-81.424560546875,-90.7603555,-94.0086078643799,-93.4165954589844,-89.53039749999999,-121.741724014282,-89.3862938475,-100.775188,-75.45824999999999,-86.9044589996338,-92.2431888125,-89.528525,-93.79333212750001,-95.26611328125,-88.7958717346191,-91.0088443756104,-100.7771425125,-102.552428245544,-82.7364835,-91.3667058944702,-86.98982,-76.650972,-76.655339,-92.2325706481934,-96.8094253540039,-87.00020175,-92.25804885,-122.424545288086,-76.65036275,-98.607177734375,-93.533648,-77.5668065,-100.779377525,-84.4705825,-93.7424325942993,-83.67122475,-86.9895995,-90.2053833007812,-88.2338815,-95.7605171203613,-78.8269662857056,-96.4274175,-83.67288725,-89.544225,-120.057153701782,-75.44913625000001,-96.4329965,-100.7471915,-92.4192333221436,-109.455766677856,-95.0064086914062,-107.837219238281,-99.4880676269531,-82.6725244522095,-98.0004692077637,-87.000205,-105.100231170654,-96.55988375,-83.6434555053711,-103.83252620697,-96.59670298,-96.43393475,-96.4283844175,-101.98729575,-92.208004165,-96.41664324999999,-97.0756006240845,-96.4273201675,-71.3193321228027,-92.2076033325,-81.3192749023438,-89.5308135,-91.7484760284424,-96.42790225,-91.4940229575,-92.79541015625,-90.4565334320068,-100.7749075,-106.999101638794,-89.155158996582,-84.4706665,-91.48767071500001,-83.67284000000001,-92.28138874999999,-102.92874499999999,-82.1369934082031,-114.530534744263,-95.3327941894531,-93.4130859375,-89.5317,-78.492372,-99.0293073654175,-75.4333645,-91.494122375,-93.53411425,-96.42780953249999,-96.42793611249999,-114.4140625,-77.1789825,-85.5822467803955,-89.110631942749,-93.69030947499999,-94.720747405,-104.994675,-85.4478979110718,-112.56103515625,-114.985456466675,-101.757850646973,-93.0428314208984,-98.2367038726807,-82.73756775,-100.666170120239,-83.29821525,-86.99766525,-82.7362945,-88.23121675,-95.5942535400391,-76.65276399999999,-90.76032574999999,-91.9798851013184,-122.254114151001,-82.5294017791748,-92.24291804,-76.6515625,-93.4070539474487,-96.50146484375,-84.47058725,-94.8035144805908,-94.2167663574219,-89.33189475,-83.55854475,-76.65277775,-96.4283715,-96.2066650390625,-93.4922695159912,-91.6405582427979,-106.207485198975,-78.510504,-82.73710325,-86.1575889587402,-85.6952095031738,-90.7603455,-91.48720141,-83.558517,-94.72081685,-92.0057678222656,-96.42840763,-112.765135765076,-75.7564640045166,-83.66477375,-91.49362406,-100.7480420875,-96.62898225,-75.45625,-93.53519625,-96.7363834381104,-83.3044675,-88.23397575,-78.2001876831055,-76.651520835,-77.56904237500001,-96.41663225,-89.5306055,-83.3110275,-96.0428142547607,-111.04887008667,-77.57131746499999,-76.6513705,-96.61667,-76.65248675,-94.729009495,-81.7930603027344,-76.653454625,-75.4656925,-96.597845,-90.0749725,-76.65530175,-85.8939361572266,-83.55515025,-94.1229963302612,-88.5718107223511,-83.55854775,-92.2079,-79.9948692321777,-76.65275025,-83.30265185,-89.33172575,-75.452693125,-84.5899295806885,-83.30972048999999,-83.67122499999999,-89.532033415,-76.652747,-92.2057525,-83.555095,-92.24308745,-77.177887625,-107.60778427124,-92.24310603250001,-119.584794044495,-96.42840763,-96.412816125,-89.0134620666504,-88.6467170715332,-117.642822265625,-89.52853825,-85.6333541870117,-118.976001739502,-89.33688775,-107.309365272522,-90.9894323348999,-89.38396800000001,-97.4005603790283,-89.53194975,-96.430684,-83.0253410339355,-90.7535266876221,-85.6710815429688,-76.6556765,-88.0278348922729,-104.008331298828,-80.986967086792,-89.5563453275,-92.3548775,-123.769788742065,-100.7527925,-99.9475955963135,-94.7205012925,-77.57127825,-120.466890335083,-84.0742492675781,-89.494068,-99.8477935791016,-94.0114593505859,-84.6217346191406,-95.4341316223145,-97.2630310058594,-90.66530155000001,-91.49407266624999,-76.6515625,-114.819412231445,-88.2291765,-104.9997825,-103.265628814697,-89.33359974999999,-93.5326302825,-120.649166107178,-94.6006202697754,-93.533648,-82.736661,-76.6555945,-122.249069213867,-93.69042819,-76.6516166675,-96.60482225,-112.089552879333,-96.428361205,-91.0485458374023,-91.4941418,-76.65519325,-83.308125,-86.9898145,-77.5664625,-75.46566025,-105.444383621216,-84.47056075,-87.00278825,-92.390718460083,-89.33882925,-84.49434124999999,-100.745134353638,-100.351519584656,-83.558005,-97.5606822967529,-76.65174300000001,-76.650192,-100.912275314331,-90.0228881835938,-84.49755575,-82.5267696380615,-93.8194227218628,-86.0044860839844,-103.322658538818,-75.433225,-96.1674022674561,-88.2298385,-93.53494127249999,-92.24310603250001,-90.4758358001709,-97.9315948486328,-96.597845,-93.525004705,-118.958892822266,-96.9212913513184,-93.52954725000001,-92.2072025,-92.20883,-96.409,-87.8469848632812,-96.4274555575,-83.55826099999999,-89.54491325000001,-100.748892675,-93.6080837249756,-86.99766525,-83.30894675,-101.255331039429,-84.2952625],\"marker\":{\"color\":\"fuchsia\"},\"mode\":\"markers\",\"name\":\"\",\"showlegend\":false,\"subplot\":\"mapbox\",\"type\":\"scattermapbox\"}],                        {\"template\":{\"data\":{\"histogram2dcontour\":[{\"type\":\"histogram2dcontour\",\"colorbar\":{\"outlinewidth\":0,\"ticks\":\"\"},\"colorscale\":[[0.0,\"#0d0887\"],[0.1111111111111111,\"#46039f\"],[0.2222222222222222,\"#7201a8\"],[0.3333333333333333,\"#9c179e\"],[0.4444444444444444,\"#bd3786\"],[0.5555555555555556,\"#d8576b\"],[0.6666666666666666,\"#ed7953\"],[0.7777777777777778,\"#fb9f3a\"],[0.8888888888888888,\"#fdca26\"],[1.0,\"#f0f921\"]]}],\"choropleth\":[{\"type\":\"choropleth\",\"colorbar\":{\"outlinewidth\":0,\"ticks\":\"\"}}],\"histogram2d\":[{\"type\":\"histogram2d\",\"colorbar\":{\"outlinewidth\":0,\"ticks\":\"\"},\"colorscale\":[[0.0,\"#0d0887\"],[0.1111111111111111,\"#46039f\"],[0.2222222222222222,\"#7201a8\"],[0.3333333333333333,\"#9c179e\"],[0.4444444444444444,\"#bd3786\"],[0.5555555555555556,\"#d8576b\"],[0.6666666666666666,\"#ed7953\"],[0.7777777777777778,\"#fb9f3a\"],[0.8888888888888888,\"#fdca26\"],[1.0,\"#f0f921\"]]}],\"heatmap\":[{\"type\":\"heatmap\",\"colorbar\":{\"outlinewidth\":0,\"ticks\":\"\"},\"colorscale\":[[0.0,\"#0d0887\"],[0.1111111111111111,\"#46039f\"],[0.2222222222222222,\"#7201a8\"],[0.3333333333333333,\"#9c179e\"],[0.4444444444444444,\"#bd3786\"],[0.5555555555555556,\"#d8576b\"],[0.6666666666666666,\"#ed7953\"],[0.7777777777777778,\"#fb9f3a\"],[0.8888888888888888,\"#fdca26\"],[1.0,\"#f0f921\"]]}],\"heatmapgl\":[{\"type\":\"heatmapgl\",\"colorbar\":{\"outlinewidth\":0,\"ticks\":\"\"},\"colorscale\":[[0.0,\"#0d0887\"],[0.1111111111111111,\"#46039f\"],[0.2222222222222222,\"#7201a8\"],[0.3333333333333333,\"#9c179e\"],[0.4444444444444444,\"#bd3786\"],[0.5555555555555556,\"#d8576b\"],[0.6666666666666666,\"#ed7953\"],[0.7777777777777778,\"#fb9f3a\"],[0.8888888888888888,\"#fdca26\"],[1.0,\"#f0f921\"]]}],\"contourcarpet\":[{\"type\":\"contourcarpet\",\"colorbar\":{\"outlinewidth\":0,\"ticks\":\"\"}}],\"contour\":[{\"type\":\"contour\",\"colorbar\":{\"outlinewidth\":0,\"ticks\":\"\"},\"colorscale\":[[0.0,\"#0d0887\"],[0.1111111111111111,\"#46039f\"],[0.2222222222222222,\"#7201a8\"],[0.3333333333333333,\"#9c179e\"],[0.4444444444444444,\"#bd3786\"],[0.5555555555555556,\"#d8576b\"],[0.6666666666666666,\"#ed7953\"],[0.7777777777777778,\"#fb9f3a\"],[0.8888888888888888,\"#fdca26\"],[1.0,\"#f0f921\"]]}],\"surface\":[{\"type\":\"surface\",\"colorbar\":{\"outlinewidth\":0,\"ticks\":\"\"},\"colorscale\":[[0.0,\"#0d0887\"],[0.1111111111111111,\"#46039f\"],[0.2222222222222222,\"#7201a8\"],[0.3333333333333333,\"#9c179e\"],[0.4444444444444444,\"#bd3786\"],[0.5555555555555556,\"#d8576b\"],[0.6666666666666666,\"#ed7953\"],[0.7777777777777778,\"#fb9f3a\"],[0.8888888888888888,\"#fdca26\"],[1.0,\"#f0f921\"]]}],\"mesh3d\":[{\"type\":\"mesh3d\",\"colorbar\":{\"outlinewidth\":0,\"ticks\":\"\"}}],\"scatter\":[{\"fillpattern\":{\"fillmode\":\"overlay\",\"size\":10,\"solidity\":0.2},\"type\":\"scatter\"}],\"parcoords\":[{\"type\":\"parcoords\",\"line\":{\"colorbar\":{\"outlinewidth\":0,\"ticks\":\"\"}}}],\"scatterpolargl\":[{\"type\":\"scatterpolargl\",\"marker\":{\"colorbar\":{\"outlinewidth\":0,\"ticks\":\"\"}}}],\"bar\":[{\"error_x\":{\"color\":\"#2a3f5f\"},\"error_y\":{\"color\":\"#2a3f5f\"},\"marker\":{\"line\":{\"color\":\"#E5ECF6\",\"width\":0.5},\"pattern\":{\"fillmode\":\"overlay\",\"size\":10,\"solidity\":0.2}},\"type\":\"bar\"}],\"scattergeo\":[{\"type\":\"scattergeo\",\"marker\":{\"colorbar\":{\"outlinewidth\":0,\"ticks\":\"\"}}}],\"scatterpolar\":[{\"type\":\"scatterpolar\",\"marker\":{\"colorbar\":{\"outlinewidth\":0,\"ticks\":\"\"}}}],\"histogram\":[{\"marker\":{\"pattern\":{\"fillmode\":\"overlay\",\"size\":10,\"solidity\":0.2}},\"type\":\"histogram\"}],\"scattergl\":[{\"type\":\"scattergl\",\"marker\":{\"colorbar\":{\"outlinewidth\":0,\"ticks\":\"\"}}}],\"scatter3d\":[{\"type\":\"scatter3d\",\"line\":{\"colorbar\":{\"outlinewidth\":0,\"ticks\":\"\"}},\"marker\":{\"colorbar\":{\"outlinewidth\":0,\"ticks\":\"\"}}}],\"scattermapbox\":[{\"type\":\"scattermapbox\",\"marker\":{\"colorbar\":{\"outlinewidth\":0,\"ticks\":\"\"}}}],\"scatterternary\":[{\"type\":\"scatterternary\",\"marker\":{\"colorbar\":{\"outlinewidth\":0,\"ticks\":\"\"}}}],\"scattercarpet\":[{\"type\":\"scattercarpet\",\"marker\":{\"colorbar\":{\"outlinewidth\":0,\"ticks\":\"\"}}}],\"carpet\":[{\"aaxis\":{\"endlinecolor\":\"#2a3f5f\",\"gridcolor\":\"white\",\"linecolor\":\"white\",\"minorgridcolor\":\"white\",\"startlinecolor\":\"#2a3f5f\"},\"baxis\":{\"endlinecolor\":\"#2a3f5f\",\"gridcolor\":\"white\",\"linecolor\":\"white\",\"minorgridcolor\":\"white\",\"startlinecolor\":\"#2a3f5f\"},\"type\":\"carpet\"}],\"table\":[{\"cells\":{\"fill\":{\"color\":\"#EBF0F8\"},\"line\":{\"color\":\"white\"}},\"header\":{\"fill\":{\"color\":\"#C8D4E3\"},\"line\":{\"color\":\"white\"}},\"type\":\"table\"}],\"barpolar\":[{\"marker\":{\"line\":{\"color\":\"#E5ECF6\",\"width\":0.5},\"pattern\":{\"fillmode\":\"overlay\",\"size\":10,\"solidity\":0.2}},\"type\":\"barpolar\"}],\"pie\":[{\"automargin\":true,\"type\":\"pie\"}]},\"layout\":{\"autotypenumbers\":\"strict\",\"colorway\":[\"#636efa\",\"#EF553B\",\"#00cc96\",\"#ab63fa\",\"#FFA15A\",\"#19d3f3\",\"#FF6692\",\"#B6E880\",\"#FF97FF\",\"#FECB52\"],\"font\":{\"color\":\"#2a3f5f\"},\"hovermode\":\"closest\",\"hoverlabel\":{\"align\":\"left\"},\"paper_bgcolor\":\"white\",\"plot_bgcolor\":\"#E5ECF6\",\"polar\":{\"bgcolor\":\"#E5ECF6\",\"angularaxis\":{\"gridcolor\":\"white\",\"linecolor\":\"white\",\"ticks\":\"\"},\"radialaxis\":{\"gridcolor\":\"white\",\"linecolor\":\"white\",\"ticks\":\"\"}},\"ternary\":{\"bgcolor\":\"#E5ECF6\",\"aaxis\":{\"gridcolor\":\"white\",\"linecolor\":\"white\",\"ticks\":\"\"},\"baxis\":{\"gridcolor\":\"white\",\"linecolor\":\"white\",\"ticks\":\"\"},\"caxis\":{\"gridcolor\":\"white\",\"linecolor\":\"white\",\"ticks\":\"\"}},\"coloraxis\":{\"colorbar\":{\"outlinewidth\":0,\"ticks\":\"\"}},\"colorscale\":{\"sequential\":[[0.0,\"#0d0887\"],[0.1111111111111111,\"#46039f\"],[0.2222222222222222,\"#7201a8\"],[0.3333333333333333,\"#9c179e\"],[0.4444444444444444,\"#bd3786\"],[0.5555555555555556,\"#d8576b\"],[0.6666666666666666,\"#ed7953\"],[0.7777777777777778,\"#fb9f3a\"],[0.8888888888888888,\"#fdca26\"],[1.0,\"#f0f921\"]],\"sequentialminus\":[[0.0,\"#0d0887\"],[0.1111111111111111,\"#46039f\"],[0.2222222222222222,\"#7201a8\"],[0.3333333333333333,\"#9c179e\"],[0.4444444444444444,\"#bd3786\"],[0.5555555555555556,\"#d8576b\"],[0.6666666666666666,\"#ed7953\"],[0.7777777777777778,\"#fb9f3a\"],[0.8888888888888888,\"#fdca26\"],[1.0,\"#f0f921\"]],\"diverging\":[[0,\"#8e0152\"],[0.1,\"#c51b7d\"],[0.2,\"#de77ae\"],[0.3,\"#f1b6da\"],[0.4,\"#fde0ef\"],[0.5,\"#f7f7f7\"],[0.6,\"#e6f5d0\"],[0.7,\"#b8e186\"],[0.8,\"#7fbc41\"],[0.9,\"#4d9221\"],[1,\"#276419\"]]},\"xaxis\":{\"gridcolor\":\"white\",\"linecolor\":\"white\",\"ticks\":\"\",\"title\":{\"standoff\":15},\"zerolinecolor\":\"white\",\"automargin\":true,\"zerolinewidth\":2},\"yaxis\":{\"gridcolor\":\"white\",\"linecolor\":\"white\",\"ticks\":\"\",\"title\":{\"standoff\":15},\"zerolinecolor\":\"white\",\"automargin\":true,\"zerolinewidth\":2},\"scene\":{\"xaxis\":{\"backgroundcolor\":\"#E5ECF6\",\"gridcolor\":\"white\",\"linecolor\":\"white\",\"showbackground\":true,\"ticks\":\"\",\"zerolinecolor\":\"white\",\"gridwidth\":2},\"yaxis\":{\"backgroundcolor\":\"#E5ECF6\",\"gridcolor\":\"white\",\"linecolor\":\"white\",\"showbackground\":true,\"ticks\":\"\",\"zerolinecolor\":\"white\",\"gridwidth\":2},\"zaxis\":{\"backgroundcolor\":\"#E5ECF6\",\"gridcolor\":\"white\",\"linecolor\":\"white\",\"showbackground\":true,\"ticks\":\"\",\"zerolinecolor\":\"white\",\"gridwidth\":2}},\"shapedefaults\":{\"line\":{\"color\":\"#2a3f5f\"}},\"annotationdefaults\":{\"arrowcolor\":\"#2a3f5f\",\"arrowhead\":0,\"arrowwidth\":1},\"geo\":{\"bgcolor\":\"white\",\"landcolor\":\"#E5ECF6\",\"subunitcolor\":\"white\",\"showland\":true,\"showlakes\":true,\"lakecolor\":\"white\"},\"title\":{\"x\":0.05},\"mapbox\":{\"style\":\"light\"}}},\"mapbox\":{\"domain\":{\"x\":[0.0,1.0],\"y\":[0.0,1.0]},\"center\":{\"lat\":39.486448098655856,\"lon\":-91.82480546207833},\"zoom\":3,\"style\":\"open-street-map\"},\"legend\":{\"tracegroupgap\":0},\"margin\":{\"t\":0,\"r\":0,\"l\":0,\"b\":0},\"height\":300},                        {\"responsive\": true}                    ).then(function(){\n",
       "                            \n",
       "var gd = document.getElementById('e32fdbbd-3382-48d5-b09a-5bb0b6e906dc');\n",
       "var x = new MutationObserver(function (mutations, observer) {{\n",
       "        var display = window.getComputedStyle(gd).display;\n",
       "        if (!display || display === 'none') {{\n",
       "            console.log([gd, 'removed!']);\n",
       "            Plotly.purge(gd);\n",
       "            observer.disconnect();\n",
       "        }}\n",
       "}});\n",
       "\n",
       "// Listen for the removal of the full notebook cells\n",
       "var notebookContainer = gd.closest('#notebook-container');\n",
       "if (notebookContainer) {{\n",
       "    x.observe(notebookContainer, {childList: true});\n",
       "}}\n",
       "\n",
       "// Listen for the clearing of the current output cell\n",
       "var outputEl = gd.closest('.output');\n",
       "if (outputEl) {{\n",
       "    x.observe(outputEl, {childList: true});\n",
       "}}\n",
       "\n",
       "                        })                };                });            </script>        </div>"
      ]
     },
     "metadata": {},
     "output_type": "display_data"
    }
   ],
   "source": [
    "# Starting with a location and year\n",
    "\n",
    "import plotly.express as px\n",
    "\n",
    "fig = px.scatter_mapbox(Ids.loc[:, ['Longitude', 'Latitude']].drop_duplicates(), lon = 'Longitude', lat = 'Latitude',\n",
    "                        color_discrete_sequence=[\"fuchsia\"], zoom=3, height=300)\n",
    "fig.update_layout(mapbox_style=\"open-street-map\")\n",
    "fig.update_layout(margin={\"r\":0,\"t\":0,\"l\":0,\"b\":0})\n",
    "fig.show()"
   ]
  },
  {
   "cell_type": "code",
   "execution_count": null,
   "metadata": {},
   "outputs": [
    {
     "data": {
      "text/html": [
       "<div>\n",
       "<style scoped>\n",
       "    .dataframe tbody tr th:only-of-type {\n",
       "        vertical-align: middle;\n",
       "    }\n",
       "\n",
       "    .dataframe tbody tr th {\n",
       "        vertical-align: top;\n",
       "    }\n",
       "\n",
       "    .dataframe thead th {\n",
       "        text-align: right;\n",
       "    }\n",
       "</style>\n",
       "<table border=\"1\" class=\"dataframe\">\n",
       "  <thead>\n",
       "    <tr style=\"text-align: right;\">\n",
       "      <th></th>\n",
       "      <th>File</th>\n",
       "      <th>Longitude</th>\n",
       "      <th>Latitude</th>\n",
       "      <th>SoilIdx</th>\n",
       "      <th>SowDate</th>\n",
       "      <th>Genotype</th>\n",
       "      <th>FactorialUID</th>\n",
       "    </tr>\n",
       "  </thead>\n",
       "  <tbody>\n",
       "    <tr>\n",
       "      <th>0</th>\n",
       "      <td>sim_1697173207_62279</td>\n",
       "      <td>-76.656119</td>\n",
       "      <td>42.733264</td>\n",
       "      <td>141</td>\n",
       "      <td>19-Jun</td>\n",
       "      <td>Cultivar1</td>\n",
       "      <td>1</td>\n",
       "    </tr>\n",
       "    <tr>\n",
       "      <th>652550</th>\n",
       "      <td>sim_1698267607_61887</td>\n",
       "      <td>-76.656119</td>\n",
       "      <td>42.733264</td>\n",
       "      <td>141</td>\n",
       "      <td>19-Jun</td>\n",
       "      <td>Cultivar1</td>\n",
       "      <td>1</td>\n",
       "    </tr>\n",
       "    <tr>\n",
       "      <th>719200</th>\n",
       "      <td>sim_1698224407_24608</td>\n",
       "      <td>-76.656119</td>\n",
       "      <td>42.733264</td>\n",
       "      <td>141</td>\n",
       "      <td>19-Jun</td>\n",
       "      <td>Cultivar1</td>\n",
       "      <td>1551</td>\n",
       "    </tr>\n",
       "    <tr>\n",
       "      <th>825375</th>\n",
       "      <td>sim_1696770008_03244</td>\n",
       "      <td>-76.656119</td>\n",
       "      <td>42.733264</td>\n",
       "      <td>141</td>\n",
       "      <td>19-Jun</td>\n",
       "      <td>Cultivar1</td>\n",
       "      <td>13951</td>\n",
       "    </tr>\n",
       "    <tr>\n",
       "      <th>874201</th>\n",
       "      <td>sim_1697461207_67118</td>\n",
       "      <td>-76.656119</td>\n",
       "      <td>42.733264</td>\n",
       "      <td>141</td>\n",
       "      <td>19-Jun</td>\n",
       "      <td>Cultivar1</td>\n",
       "      <td>11627</td>\n",
       "    </tr>\n",
       "    <tr>\n",
       "      <th>966425</th>\n",
       "      <td>sim_1697475607_87027</td>\n",
       "      <td>-76.656119</td>\n",
       "      <td>42.733264</td>\n",
       "      <td>141</td>\n",
       "      <td>19-Jun</td>\n",
       "      <td>Cultivar1</td>\n",
       "      <td>5426</td>\n",
       "    </tr>\n",
       "    <tr>\n",
       "      <th>1170250</th>\n",
       "      <td>sim_1696842008_03237</td>\n",
       "      <td>-76.656119</td>\n",
       "      <td>42.733264</td>\n",
       "      <td>141</td>\n",
       "      <td>19-Jun</td>\n",
       "      <td>Cultivar1</td>\n",
       "      <td>8526</td>\n",
       "    </tr>\n",
       "    <tr>\n",
       "      <th>1430657</th>\n",
       "      <td>sim_1696417207_4919</td>\n",
       "      <td>-76.656119</td>\n",
       "      <td>42.733264</td>\n",
       "      <td>141</td>\n",
       "      <td>19-Jun</td>\n",
       "      <td>Cultivar1</td>\n",
       "      <td>13183</td>\n",
       "    </tr>\n",
       "    <tr>\n",
       "      <th>1786375</th>\n",
       "      <td>sim_1696265622_69985</td>\n",
       "      <td>-76.656119</td>\n",
       "      <td>42.733264</td>\n",
       "      <td>141</td>\n",
       "      <td>19-Jun</td>\n",
       "      <td>Cultivar1</td>\n",
       "      <td>10076</td>\n",
       "    </tr>\n",
       "    <tr>\n",
       "      <th>2339725</th>\n",
       "      <td>sim_1695672661_86607</td>\n",
       "      <td>-76.656119</td>\n",
       "      <td>42.733264</td>\n",
       "      <td>141</td>\n",
       "      <td>19-Jun</td>\n",
       "      <td>Cultivar1</td>\n",
       "      <td>275901</td>\n",
       "    </tr>\n",
       "    <tr>\n",
       "      <th>2435065</th>\n",
       "      <td>sim_1697158807_84579</td>\n",
       "      <td>-76.656119</td>\n",
       "      <td>42.733264</td>\n",
       "      <td>141</td>\n",
       "      <td>19-Jun</td>\n",
       "      <td>Cultivar1</td>\n",
       "      <td>9316</td>\n",
       "    </tr>\n",
       "    <tr>\n",
       "      <th>2456750</th>\n",
       "      <td>sim_1696856407_60601</td>\n",
       "      <td>-76.656119</td>\n",
       "      <td>42.733264</td>\n",
       "      <td>141</td>\n",
       "      <td>19-Jun</td>\n",
       "      <td>Cultivar1</td>\n",
       "      <td>10851</td>\n",
       "    </tr>\n",
       "  </tbody>\n",
       "</table>\n",
       "</div>"
      ],
      "text/plain": [
       "                         File  Longitude   Latitude  SoilIdx SowDate  \\\n",
       "0        sim_1697173207_62279 -76.656119  42.733264      141  19-Jun   \n",
       "652550   sim_1698267607_61887 -76.656119  42.733264      141  19-Jun   \n",
       "719200   sim_1698224407_24608 -76.656119  42.733264      141  19-Jun   \n",
       "825375   sim_1696770008_03244 -76.656119  42.733264      141  19-Jun   \n",
       "874201   sim_1697461207_67118 -76.656119  42.733264      141  19-Jun   \n",
       "966425   sim_1697475607_87027 -76.656119  42.733264      141  19-Jun   \n",
       "1170250  sim_1696842008_03237 -76.656119  42.733264      141  19-Jun   \n",
       "1430657   sim_1696417207_4919 -76.656119  42.733264      141  19-Jun   \n",
       "1786375  sim_1696265622_69985 -76.656119  42.733264      141  19-Jun   \n",
       "2339725  sim_1695672661_86607 -76.656119  42.733264      141  19-Jun   \n",
       "2435065  sim_1697158807_84579 -76.656119  42.733264      141  19-Jun   \n",
       "2456750  sim_1696856407_60601 -76.656119  42.733264      141  19-Jun   \n",
       "\n",
       "          Genotype  FactorialUID  \n",
       "0        Cultivar1             1  \n",
       "652550   Cultivar1             1  \n",
       "719200   Cultivar1          1551  \n",
       "825375   Cultivar1         13951  \n",
       "874201   Cultivar1         11627  \n",
       "966425   Cultivar1          5426  \n",
       "1170250  Cultivar1          8526  \n",
       "1430657  Cultivar1         13183  \n",
       "1786375  Cultivar1         10076  \n",
       "2339725  Cultivar1        275901  \n",
       "2435065  Cultivar1          9316  \n",
       "2456750  Cultivar1         10851  "
      ]
     },
     "execution_count": null,
     "metadata": {},
     "output_type": "execute_result"
    }
   ],
   "source": [
    "# -> File\tGenotype  --Genotypes-> \n",
    "#\t FactorialUID     --Results->\n",
    "\n",
    "lon, lat, soil = [-76.65611874999999, 42.733264, 141] #lon lat soil\n",
    "\n",
    "# should allow ranges, slices, or all\n",
    "sow = '19-Jun'\n",
    "# allow all\n",
    "cultivar = 'Cultivar1'\n",
    "\n",
    "\n",
    "# -> File FactorialUID\n",
    "\n",
    "mask = (\n",
    "    (Ids.Longitude == lon) &\n",
    "    (Ids.Latitude == lat) &\n",
    "    (Ids.SoilIdx == soil) &\n",
    "    (Ids.SowDate == sow) &\n",
    "    (Ids.Genotype == cultivar))\n",
    "\n",
    "Ids.loc[mask, ]"
   ]
  },
  {
   "cell_type": "code",
   "execution_count": null,
   "metadata": {},
   "outputs": [
    {
     "data": {
      "text/plain": [
       "<__main__.temp>"
      ]
     },
     "execution_count": null,
     "metadata": {},
     "output_type": "execute_result"
    }
   ],
   "source": []
  },
  {
   "cell_type": "code",
   "execution_count": null,
   "metadata": {},
   "outputs": [
    {
     "data": {
      "text/html": [
       "<div>\n",
       "<style scoped>\n",
       "    .dataframe tbody tr th:only-of-type {\n",
       "        vertical-align: middle;\n",
       "    }\n",
       "\n",
       "    .dataframe tbody tr th {\n",
       "        vertical-align: top;\n",
       "    }\n",
       "\n",
       "    .dataframe thead th {\n",
       "        text-align: right;\n",
       "    }\n",
       "</style>\n",
       "<table border=\"1\" class=\"dataframe\">\n",
       "  <thead>\n",
       "    <tr style=\"text-align: right;\">\n",
       "      <th></th>\n",
       "      <th>File</th>\n",
       "      <th>Genotype</th>\n",
       "    </tr>\n",
       "  </thead>\n",
       "  <tbody>\n",
       "    <tr>\n",
       "      <th>953</th>\n",
       "      <td>sim_1698224407_24608</td>\n",
       "      <td>Cultivar1</td>\n",
       "    </tr>\n",
       "    <tr>\n",
       "      <th>1001</th>\n",
       "      <td>sim_1697288407_92446</td>\n",
       "      <td>Cultivar24</td>\n",
       "    </tr>\n",
       "    <tr>\n",
       "      <th>1784</th>\n",
       "      <td>sim_1697115607_54721</td>\n",
       "      <td>Cultivar7</td>\n",
       "    </tr>\n",
       "    <tr>\n",
       "      <th>2156</th>\n",
       "      <td>sim_1697072407_46129</td>\n",
       "      <td>Cultivar4</td>\n",
       "    </tr>\n",
       "    <tr>\n",
       "      <th>2840</th>\n",
       "      <td>sim_1696626007_58404</td>\n",
       "      <td>Cultivar13</td>\n",
       "    </tr>\n",
       "  </tbody>\n",
       "</table>\n",
       "</div>"
      ],
      "text/plain": [
       "                      File    Genotype\n",
       "953   sim_1698224407_24608   Cultivar1\n",
       "1001  sim_1697288407_92446  Cultivar24\n",
       "1784  sim_1697115607_54721   Cultivar7\n",
       "2156  sim_1697072407_46129   Cultivar4\n",
       "2840  sim_1696626007_58404  Cultivar13"
      ]
     },
     "execution_count": null,
     "metadata": {},
     "output_type": "execute_result"
    }
   ],
   "source": [
    "# Starting with a target set of genotypes\n",
    "mask = Genotypes['Grain.MaximumGrainsPerCob.FixedValue'] == Genotypes['Grain.MaximumGrainsPerCob.FixedValue'].max()\n",
    "\n",
    "Genotypes.loc[mask, ['File', 'Genotype']]"
   ]
  },
  {
   "cell_type": "code",
   "execution_count": null,
   "metadata": {},
   "outputs": [],
   "source": []
  },
  {
   "cell_type": "markdown",
   "metadata": {},
   "source": [
    "## Convert Small Datasets to Tensors\n",
    "### `Genotypes` (Cultivar variables)\n",
    "\n",
    "Warning! There are some NAs from Genotypes that are not \"Cultivar\\d+\" Genotypes. These are calibrated genotypes that with defaults that are not clear."
   ]
  },
  {
   "cell_type": "code",
   "execution_count": null,
   "metadata": {},
   "outputs": [],
   "source": [
    "# keep as df or matrix (contains text)\n",
    "Genotypes_lookup = Genotypes.loc[:, ['File', 'Genotype']].copy()\n",
    "\n",
    "# ['Grain.MaximumGrainsPerCob.FixedValue',\n",
    "#  'Grain.MaximumPotentialGrainSize.FixedValue',\n",
    "#  'Phenology.FlagLeafToFlowering.Target.FixedValue',\n",
    "#  'Phenology.FloweringToGrainFilling.Target.FixedValue',\n",
    "#  'Phenology.GrainFilling.Target.FixedValue',\n",
    "#  'Phenology.Juvenile.Target.FixedValue',\n",
    "#  'Phenology.Maturing.Target.FixedValue',\n",
    "#  'Phenology.MaturityToHarvestRipe.Target.FixedValue',\n",
    "#  'Phenology.Photosensitive.Target.XYPairs.X__1',\n",
    "#  'Phenology.Photosensitive.Target.XYPairs.X__2',\n",
    "#  'Phenology.Photosensitive.Target.XYPairs.X__3',\n",
    "#  'Phenology.Photosensitive.Target.XYPairs.Y__1',\n",
    "#  'Phenology.Photosensitive.Target.XYPairs.Y__2',\n",
    "#  'Phenology.Photosensitive.Target.XYPairs.Y__3',\n",
    "#  'Rachis.DMDemands.Structural.DMDemandFunction.MaximumOrganWt.FixedValue']\n",
    "\n",
    "Genotypes_cols = list(Genotypes)\n",
    "Genotypes = Genotypes.drop(columns=['File', 'Genotype'])\n",
    "# coerce None to NaN so we can convert to matrix\n",
    "for e in list(Genotypes):\n",
    "    Genotypes[e] = Genotypes[e].astype(float)\n",
    "\n",
    "# Genotypes = torch.tensor(Genotypes.to_numpy())"
   ]
  },
  {
   "cell_type": "code",
   "execution_count": null,
   "metadata": {},
   "outputs": [],
   "source": [
    "Genotypes_lookup"
   ]
  },
  {
   "cell_type": "code",
   "execution_count": null,
   "metadata": {},
   "outputs": [],
   "source": [
    "# for a given idx and year...\n",
    "idx_Ids = 1\n",
    "year = 2000"
   ]
  },
  {
   "cell_type": "code",
   "execution_count": null,
   "metadata": {},
   "outputs": [],
   "source": [
    "# get lookup information\n",
    "lookup = Ids.loc[idx_Ids, ].to_dict()"
   ]
  },
  {
   "cell_type": "code",
   "execution_count": null,
   "metadata": {},
   "outputs": [],
   "source": [
    "mask = ((Genotypes_lookup.File == lookup['File']) &  (Genotypes_lookup.Genotype == lookup['Genotype']))\n",
    "# should only have a single value\n",
    "assert sum(mask) == 1\n",
    "\n",
    "idx_Geno = Genotypes_lookup.loc[mask, ].index[0]\n",
    "\n",
    "Genotypes[idx_Geno]"
   ]
  },
  {
   "cell_type": "code",
   "execution_count": null,
   "metadata": {},
   "outputs": [],
   "source": [
    "lookup"
   ]
  },
  {
   "cell_type": "code",
   "execution_count": null,
   "metadata": {},
   "outputs": [],
   "source": [
    "lookup_date = _prep_unix_epoch_to_date(max_year = 2024)\n",
    "lookup_date.head()"
   ]
  },
  {
   "cell_type": "code",
   "execution_count": null,
   "metadata": {},
   "outputs": [],
   "source": [
    "Result = pq.read_table(apsimx_sim_parquet_dir+'/'+'sim_1698440407_4739.parquet').to_pandas()"
   ]
  },
  {
   "cell_type": "code",
   "execution_count": null,
   "metadata": {},
   "outputs": [],
   "source": [
    "# lookup_* is a internally generated ref\n",
    "# *_lookup is a table based on loaded apsimx data"
   ]
  },
  {
   "cell_type": "code",
   "execution_count": null,
   "metadata": {},
   "outputs": [],
   "source": [
    "Result_lookup = Result.loc[:, ['Date', 'FactorialUID']].copy()\n",
    "Result.drop(columns=['Date', 'FactorialUID'])\n",
    "\n",
    "Result_list = list(Result)\n",
    "Result = torch.tensor(Result.to_numpy())\n",
    "\n",
    "Result_lookup.head()"
   ]
  },
  {
   "cell_type": "code",
   "execution_count": null,
   "metadata": {},
   "outputs": [],
   "source": [
    "print(Result_lookup.shape)\n",
    "Result_lookup.merge(lookup_date.rename(columns={'Unix':'Date'}), how = 'left')"
   ]
  },
  {
   "cell_type": "code",
   "execution_count": null,
   "metadata": {},
   "outputs": [],
   "source": [
    "Result_lookup.loc[(Result_lookup.FactorialUID == 24024), ].merge(lookup_date.rename(columns={'Unix':'Date'}), how = 'left').Date.max()"
   ]
  },
  {
   "cell_type": "code",
   "execution_count": null,
   "metadata": {},
   "outputs": [],
   "source": []
  },
  {
   "cell_type": "code",
   "execution_count": null,
   "metadata": {},
   "outputs": [],
   "source": [
    "((19250-5285)/365)+1984"
   ]
  },
  {
   "cell_type": "code",
   "execution_count": null,
   "metadata": {},
   "outputs": [],
   "source": [
    "lookup_date.loc[(lookup_date.Unix == 19250)]"
   ]
  },
  {
   "cell_type": "code",
   "execution_count": null,
   "metadata": {},
   "outputs": [],
   "source": [
    "lookup"
   ]
  },
  {
   "cell_type": "code",
   "execution_count": null,
   "metadata": {},
   "outputs": [],
   "source": [
    "# TODO make this valid for torch\n",
    "sow_date = lookup_date.loc[((lookup_date.Year == year) & \n",
    "                            (lookup_date.SowDate == lookup['SowDate'])), 'Unix'].values[0]\n",
    "\n",
    "# because of how this is set up index is also valid\n",
    "_ = lookup_date.loc[(lookup_date.Year == year), 'Unix'].agg(['min', 'max'])\n",
    "_['min']"
   ]
  },
  {
   "cell_type": "code",
   "execution_count": null,
   "metadata": {},
   "outputs": [],
   "source": [
    "mask = (\n",
    "    (Result_lookup['Date'] >= _['min']) & \n",
    "    (Result_lookup['Date'] <= _['max']) &\n",
    "    (Result_lookup['FactorialUID'] == lookup['FactorialUID'])\n",
    "    )\n",
    "\n",
    "idx_Result = Result_lookup.loc[mask, ].index\n",
    "\n",
    "Result[idx_Result, ].shape"
   ]
  },
  {
   "cell_type": "code",
   "execution_count": null,
   "metadata": {},
   "outputs": [],
   "source": [
    "#TODO make sure there aren't any values before the SowDate\n",
    "Result_list"
   ]
  },
  {
   "cell_type": "code",
   "execution_count": null,
   "metadata": {},
   "outputs": [],
   "source": [
    "start = 129486\n",
    "\n",
    "\n",
    "\n",
    "px.imshow((Result[(start-30):(start+30), 1:-1].numpy()[0:30, ]).transpose())"
   ]
  },
  {
   "cell_type": "code",
   "execution_count": null,
   "metadata": {},
   "outputs": [],
   "source": [
    "import matplotlib.pyplot as plt\n",
    "\n",
    "px.imshow(Result[idx_Result, ].numpy()[0:30, ])"
   ]
  },
  {
   "cell_type": "code",
   "execution_count": null,
   "metadata": {},
   "outputs": [],
   "source": [
    "out = torch.zeros((365, 6))\n",
    "\n",
    "Result_lookup.loc[mask, ['Date']].min().values[0] - _['min']\n",
    "\n",
    "# sow_date - _['min']"
   ]
  },
  {
   "cell_type": "code",
   "execution_count": null,
   "metadata": {},
   "outputs": [],
   "source": [
    "datetime.datetime(1970, 1, 1, 0, 0) + datetime.timedelta(10957)"
   ]
  },
  {
   "cell_type": "code",
   "execution_count": null,
   "metadata": {},
   "outputs": [],
   "source": [
    "\n",
    "\n",
    "# idx_Result.to_list()\n",
    "# Result"
   ]
  },
  {
   "cell_type": "code",
   "execution_count": null,
   "metadata": {},
   "outputs": [],
   "source": [
    "Genotypes_cols"
   ]
  }
 ],
 "metadata": {
  "kernelspec": {
   "display_name": "python3",
   "language": "python",
   "name": "python3"
  }
 },
 "nbformat": 4,
 "nbformat_minor": 2
}
