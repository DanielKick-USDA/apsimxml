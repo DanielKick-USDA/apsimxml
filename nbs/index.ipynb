{
 "cells": [
  {
   "cell_type": "code",
   "execution_count": null,
   "metadata": {},
   "outputs": [],
   "source": [
    "#| hide\n",
    "from apsimxml.core import *"
   ]
  },
  {
   "cell_type": "markdown",
   "metadata": {},
   "source": [
    "# apsimxml\n",
    "\n",
    "> Calibration of ApsimX models using machine learning methods."
   ]
  },
  {
   "cell_type": "markdown",
   "metadata": {},
   "source": [
    "This file will become your README and also the index of your documentation."
   ]
  },
  {
   "cell_type": "markdown",
   "metadata": {},
   "source": [
    "## Install"
   ]
  },
  {
   "cell_type": "markdown",
   "metadata": {},
   "source": [
    "```sh\n",
    "pip install apsimxml\n",
    "```"
   ]
  },
  {
   "cell_type": "markdown",
   "metadata": {},
   "source": [
    "## How to use"
   ]
  },
  {
   "cell_type": "markdown",
   "metadata": {},
   "source": [
    "Fill me in please! Don't forget code examples:"
   ]
  },
  {
   "cell_type": "code",
   "execution_count": null,
   "metadata": {},
   "outputs": [
    {
     "data": {
      "text/plain": [
       "2"
      ]
     },
     "execution_count": null,
     "metadata": {},
     "output_type": "execute_result"
    }
   ],
   "source": [
    "1+1"
   ]
  },
  {
   "cell_type": "code",
   "execution_count": null,
   "metadata": {},
   "outputs": [],
   "source": [
    "# from IPython.display import Markdown"
   ]
  },
  {
   "cell_type": "markdown",
   "metadata": {},
   "source": []
  },
  {
   "cell_type": "markdown",
   "metadata": {},
   "source": [
    "<!-- If this diagram isn't showing up see: -->\n",
    "<!-- https://github.com/microsoft/vscode/issues/168123 -->\n",
    "```mermaid\n",
    "flowchart LR\n",
    "\n",
    "A[Hard] -->|Text| B(Round)\n",
    "B --> C{Decision}\n",
    "C -->|One| D[Result 1]\n",
    "C -->|Two| E[Result 2]\n",
    "```"
   ]
  },
  {
   "cell_type": "markdown",
   "metadata": {},
   "source": [
    "```mermaid\n",
    "flowchart TD\n",
    "%%  Comment\n",
    "\n",
    "\n",
    "%%subgraph Biological Data\n",
    "\n",
    "snps[/SNPs/]\n",
    "env[/Env. Data/]\n",
    "phno[/Phenotype/]\n",
    "\n",
    "cult[/Traits/]\n",
    "apsimx[ApsimX]\n",
    "cult & env --> apsimx\n",
    "\n",
    "\n",
    "%% phno2[/yhat 2/]\n",
    "apsimxnet[.apsimnet]\n",
    "apsimxml[.apsimxml]\n",
    "snps --> apsimxml --> cult\n",
    "env & cult --> apsimxnet\n",
    "\n",
    "%% losses\n",
    "lossT[/Trait Loss/]\n",
    "lossA[/ApsimX Loss/]\n",
    "\n",
    "apsimxnet --yhat--> lossT\n",
    "\n",
    "apsimx --yhat--> lossA\n",
    "phno --> lossA\n",
    "phno --> lossT\n",
    "\n",
    "lossT .-> apsimxml\n",
    "lossA .-> apsimxnet\n",
    "\n",
    "\n",
    "subgraph Data\n",
    "snps\n",
    "env\n",
    "phno\n",
    "end\n",
    "\n",
    "subgraph Methods\n",
    "apsimxml\n",
    "apsimx\n",
    "apsimxnet\n",
    "cult\n",
    "end\n",
    "\n",
    "subgraph Losses\n",
    "lossT\n",
    "lossA\n",
    "end\n",
    "\n",
    "%% Apply Color changes\n",
    "    %% Data\n",
    "     classDef colorData fill:#ffffcc,stroke:#333,stroke-width:1px;\n",
    "     class snps colorData\n",
    "     class env colorData\n",
    "     class phno colorData\n",
    "     \n",
    "    %% Process\n",
    "     classDef colorProcess fill:#decbe4,stroke:#333,stroke-width:1px;\n",
    "     class apsimx colorProcess\n",
    "     class apsimxnet colorProcess\n",
    "     class apsimxml colorProcess\n",
    "\n",
    "    %% Product\n",
    "     classDef colorProduct fill:#b3cde3,stroke:#333,stroke-width:1px;\n",
    "     class phno1 colorProduct\n",
    "     class phno2 colorProduct\n",
    "     class cult colorProduct\n",
    "     class lossT colorProduct\n",
    "     class lossA colorProduct\n",
    "    \n",
    "    %% Misc\n",
    "     classDef colorMisc fill:#f2f2f2,stroke:#333,stroke-width:1px;\n",
    "     class Data colorMisc\n",
    "     class Methods colorMisc\n",
    "     class Losses colorMisc\n",
    "    \n",
    "\n",
    "```"
   ]
  },
  {
   "cell_type": "code",
   "execution_count": null,
   "metadata": {},
   "outputs": [],
   "source": []
  },
  {
   "cell_type": "code",
   "execution_count": null,
   "metadata": {},
   "outputs": [],
   "source": []
  },
  {
   "cell_type": "code",
   "execution_count": null,
   "metadata": {},
   "outputs": [],
   "source": []
  },
  {
   "cell_type": "code",
   "execution_count": null,
   "metadata": {},
   "outputs": [],
   "source": []
  },
  {
   "cell_type": "code",
   "execution_count": null,
   "metadata": {},
   "outputs": [],
   "source": []
  },
  {
   "cell_type": "code",
   "execution_count": null,
   "metadata": {},
   "outputs": [],
   "source": []
  },
  {
   "cell_type": "code",
   "execution_count": null,
   "metadata": {},
   "outputs": [],
   "source": []
  },
  {
   "cell_type": "code",
   "execution_count": null,
   "metadata": {},
   "outputs": [],
   "source": []
  },
  {
   "cell_type": "code",
   "execution_count": null,
   "metadata": {},
   "outputs": [],
   "source": []
  },
  {
   "cell_type": "code",
   "execution_count": null,
   "metadata": {},
   "outputs": [],
   "source": []
  }
 ],
 "metadata": {
  "kernelspec": {
   "display_name": "python3",
   "language": "python",
   "name": "python3"
  }
 },
 "nbformat": 4,
 "nbformat_minor": 4
}
