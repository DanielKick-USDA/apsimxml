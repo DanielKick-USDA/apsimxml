{
 "cells": [
  {
   "cell_type": "code",
   "execution_count": null,
   "metadata": {},
   "outputs": [],
   "source": [
    "import os, sqlite3\n",
    "import numpy as np\n",
    "import pandas as pd\n",
    "from tqdm import tqdm\n",
    "\n",
    "import pyarrow as pa\n",
    "import pyarrow.parquet as pq"
   ]
  },
  {
   "cell_type": "code",
   "execution_count": null,
   "metadata": {},
   "outputs": [],
   "source": [
    "dbs_to_index = os.listdir('/home/Shared/cultivar_sim_exps')\n",
    "dbs_to_index = [e for e in dbs_to_index if e.split('.')[-1] == 'sqlite']"
   ]
  },
  {
   "cell_type": "code",
   "execution_count": null,
   "metadata": {},
   "outputs": [],
   "source": [
    "def get_sql_tables(\n",
    "        sql_path = f\"/home/Shared/cultivar_sim_exps/{'sim_1698728407_78912.sqlite'}\",\n",
    "        table_list = ['Ids'] #'DefaultCultivarsAll', 'Genotypes', 'Results'\n",
    "        ):\n",
    "    db = sqlite3.connect(sql_path)\n",
    "    return [pd.read_sql_query(f\"SELECT * from {table_name}\", db) for table_name in table_list]"
   ]
  },
  {
   "cell_type": "code",
   "execution_count": null,
   "metadata": {},
   "outputs": [
    {
     "name": "stdout",
     "output_type": "stream",
     "text": [
      "Updating shared tables\n"
     ]
    },
    {
     "data": {
      "text/plain": [
       "(58, 48)"
      ]
     },
     "execution_count": null,
     "metadata": {},
     "output_type": "execute_result"
    }
   ],
   "source": [
    "print('Updating shared tables')\n",
    "# expect this to be the same table over and over\n",
    "DefaultCultivarsAll = [get_sql_tables(\n",
    "        sql_path = f\"/home/Shared/cultivar_sim_exps/{db_name}\",\n",
    "        table_list = ['DefaultCultivarsAll']\n",
    "        )[0].assign(File = db_name) for db_name in dbs_to_index]\n",
    "\n",
    "DefaultCultivarsAll = pd.concat(DefaultCultivarsAll)\n",
    "\n",
    "DefaultCultivarsAll = DefaultCultivarsAll.drop(columns = 'File').drop_duplicates()\n",
    "DefaultCultivarsAll.shape"
   ]
  },
  {
   "cell_type": "code",
   "execution_count": null,
   "metadata": {},
   "outputs": [
    {
     "data": {
      "text/plain": [
       "(3203, 17)"
      ]
     },
     "execution_count": null,
     "metadata": {},
     "output_type": "execute_result"
    }
   ],
   "source": [
    "expect_dupe = []\n",
    "expect_uniq = []\n",
    "\n",
    "for db_name in dbs_to_index:\n",
    "        db = sqlite3.connect(f\"/home/Shared/cultivar_sim_exps/{db_name}\")\n",
    "        if expect_dupe == []:\n",
    "            dupe = pd.read_sql_query(f\"SELECT * FROM Genotypes WHERE Genotype NOT LIKE 'Cultivar%'\", db)\n",
    "            expect_dupe.append(dupe.assign(File = db_name) )\n",
    "        expect_uniq.append(pd.read_sql_query(f\"SELECT * FROM Genotypes WHERE Genotype     LIKE 'Cultivar%'\", db).assign(File = db_name))\n",
    "\n",
    "Genotypes = pd.concat(expect_dupe+expect_uniq)\n",
    "Genotypes.File = Genotypes.File.str.replace('.sqlite', '')\n",
    "# Reorder cols\n",
    "Genotypes = Genotypes.loc[:, ['File', 'Genotype']+[e for e in list(Genotypes) if e not in ['File', 'Genotype']]]\n",
    "del expect_dupe\n",
    "del expect_uniq\n",
    "Genotypes.shape"
   ]
  },
  {
   "cell_type": "code",
   "execution_count": null,
   "metadata": {},
   "outputs": [
    {
     "data": {
      "text/plain": [
       "(2837275, 7)"
      ]
     },
     "execution_count": null,
     "metadata": {},
     "output_type": "execute_result"
    }
   ],
   "source": [
    "Ids = [get_sql_tables(\n",
    "        sql_path = f\"/home/Shared/cultivar_sim_exps/{db_name}\",\n",
    "        table_list = ['Ids']\n",
    "        )[0].assign(File = db_name) for db_name in dbs_to_index]\n",
    "\n",
    "Ids = pd.concat(Ids)\n",
    "Ids.SoilIdx = Ids.SoilIdx.astype(int)\n",
    "Ids.File = Ids.File.str.replace('.sqlite', '')\n",
    "# Reorder cols\n",
    "Ids = Ids.loc[:, ['File']+[e for e in list(Ids) if e not in ['File']]]\n",
    "Ids.shape"
   ]
  },
  {
   "cell_type": "code",
   "execution_count": null,
   "metadata": {},
   "outputs": [],
   "source": [
    "# DefaultCultivarsAll.head()"
   ]
  },
  {
   "cell_type": "code",
   "execution_count": null,
   "metadata": {},
   "outputs": [],
   "source": [
    "# Genotypes.head()"
   ]
  },
  {
   "cell_type": "code",
   "execution_count": null,
   "metadata": {},
   "outputs": [],
   "source": [
    "# Ids.head()"
   ]
  },
  {
   "cell_type": "code",
   "execution_count": null,
   "metadata": {},
   "outputs": [],
   "source": [
    "# save out global referenc tables as parquet files. \n",
    "# check if files exist if so load and extend. \n",
    "def update_parquet_table(\n",
    "        base_path = \"/home/Shared/cultivar_sim_exps/\",\n",
    "        name = 'DefaultCultivarsAll',\n",
    "        table = DefaultCultivarsAll\n",
    "        ):\n",
    "    file_path = f\"{base_path}{name}.parquet\"\n",
    "    if os.path.exists(file_path):\n",
    "        old_table = pq.read_table(file_path).to_pandas()\n",
    "        table = old_table.merge(table)\n",
    "    table = pa.Table.from_pandas(table)\n",
    "    pq.write_table(table, file_path)\n",
    "\n",
    "for k, v in zip(['DefaultCultivarsAll', 'Genotypes', 'Ids'], \n",
    "                [ DefaultCultivarsAll,   Genotypes,   Ids]):\n",
    "    update_parquet_table(\n",
    "        base_path = \"/home/Shared/cultivar_sim_exps/\",\n",
    "        name =  k,\n",
    "        table = v\n",
    "        )"
   ]
  },
  {
   "cell_type": "code",
   "execution_count": null,
   "metadata": {},
   "outputs": [],
   "source": [
    "# now for each of the files with results, convert and delete original sqlite\n",
    "\n",
    "def results_sqlite_to_parquet(file_path = f\"/home/Shared/cultivar_sim_exps/{'sim_1698728407_78912.sqlite'}\",\n",
    "                              delete_after = False,\n",
    "                              double_dare = False # ignore file size requirement\n",
    "                              ):\n",
    "    # cut off sqlite, add parquet\n",
    "    new_filepath = file_path[0:-6]+'parquet'\n",
    "\n",
    "    table = get_sql_tables(sql_path = file_path, table_list = ['Results'] )[0]\n",
    "    table.Date = table.Date.astype(int)\n",
    "    table = pa.Table.from_pandas(table)\n",
    "    pq.write_table(table, new_filepath)\n",
    "\n",
    "    if delete_after:\n",
    "        if os.path.exists(new_filepath):\n",
    "            if os.path.getsize(new_filepath) > 1000000000:\n",
    "                del_bool = True\n",
    "            elif double_dare == True:\n",
    "                del_bool = True\n",
    "        if del_bool:\n",
    "            os.remove(file_path)\n"
   ]
  },
  {
   "cell_type": "code",
   "execution_count": null,
   "metadata": {},
   "outputs": [],
   "source": [
    "# sort from smallest to largest\n",
    "tmp = {os.path.getsize(f\"/home/Shared/cultivar_sim_exps/{db}\"): db for db in dbs_to_index}\n",
    "tmp = [tmp[e] for e in sorted( list(tmp.keys()) )]\n"
   ]
  },
  {
   "cell_type": "code",
   "execution_count": null,
   "metadata": {},
   "outputs": [],
   "source": [
    "# print('staring conversion process')\n",
    "# for db in tmp:\n",
    "#     gb = round(os.path.getsize(f\"/home/Shared/cultivar_sim_exps/{db}\")/1000000000, 2)\n",
    "#     print(f\"{gb}G\\t| {db}\")\n",
    "#     results_sqlite_to_parquet(file_path = f\"/home/Shared/cultivar_sim_exps/{db}\",\n",
    "#                             delete_after = False,\n",
    "#                             double_dare = False # ignore file size requirement\n",
    "#                             )\n"
   ]
  },
  {
   "cell_type": "code",
   "execution_count": null,
   "metadata": {},
   "outputs": [],
   "source": [
    "# pq.read_table(f\"/home/Shared/cultivar_sim_exps/{'sim_cultivar.parquet'}\").to_pandas()\n"
   ]
  },
  {
   "cell_type": "code",
   "execution_count": null,
   "metadata": {},
   "outputs": [],
   "source": [
    "# pq.read_table(f\"/home/Shared/cultivar_sim_exps/{'sim_1697187607_79518.parquet'}\").to_pandas()\n"
   ]
  },
  {
   "cell_type": "code",
   "execution_count": null,
   "metadata": {},
   "outputs": [],
   "source": [
    "# pq.read_table(f\"/home/Shared/cultivar_sim_exps/{'sim_1698310807_76163.parquet'}\").to_pandas()\n"
   ]
  },
  {
   "cell_type": "code",
   "execution_count": null,
   "metadata": {},
   "outputs": [],
   "source": [
    "# len(dbs_to_index)\n",
    "# for db in dbs_to_index[0:1]:\n"
   ]
  },
  {
   "cell_type": "code",
   "execution_count": null,
   "metadata": {},
   "outputs": [],
   "source": []
  }
 ],
 "metadata": {
  "kernelspec": {
   "display_name": "python3",
   "language": "python",
   "name": "python3"
  }
 },
 "nbformat": 4,
 "nbformat_minor": 2
}
